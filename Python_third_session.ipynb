{
  "cells": [
    {
      "cell_type": "markdown",
      "metadata": {
        "id": "view-in-github",
        "colab_type": "text"
      },
      "source": [
        "<a href=\"https://colab.research.google.com/github/shahab271069/Advanced-Time-series-analysis/blob/main/Python_third_session.ipynb\" target=\"_parent\"><img src=\"https://colab.research.google.com/assets/colab-badge.svg\" alt=\"Open In Colab\"/></a>"
      ]
    },
    {
      "cell_type": "markdown",
      "metadata": {
        "id": "7yQ3bvn99PHo"
      },
      "source": [
        "# Introduction to Python Packages\n",
        "In this notebook, we will explore several essential Python packages used for various tasks, including file handling, numerical computations, data manipulation, and visualization.\n",
        "\n",
        "## Table of Contents\n",
        "- [OS](#os)\n",
        "- [Glob](#glob)\n",
        "- [NumPy](#numpy)\n",
        "- [SciPy](#scipy)\n",
        "- [Matplotlib](#matplotlib)\n",
        "- [Pandas](#pandas)\n"
      ]
    },
    {
      "cell_type": "markdown",
      "metadata": {
        "id": "66xhvDas9PHr"
      },
      "source": [
        "## OS\n",
        "The `os` module provides a way of using operating system-dependent functionality like reading or writing to the file system. It allows you to interact with the file system in a platform-independent manner.\n",
        "\n",
        "### Features:\n",
        "- File and directory manipulation\n",
        "- Environment variables\n",
        "- Process management\n",
        "\n",
        "### Examples:"
      ]
    },
    {
      "cell_type": "code",
      "execution_count": 1,
      "metadata": {
        "id": "xYrH6lpV9PHt",
        "colab": {
          "base_uri": "https://localhost:8080/",
          "height": 36
        },
        "outputId": "ea58f898-b96e-4d43-b115-b30ca1cf6d61"
      },
      "outputs": [
        {
          "output_type": "execute_result",
          "data": {
            "text/plain": [
              "'/content'"
            ],
            "application/vnd.google.colaboratory.intrinsic+json": {
              "type": "string"
            }
          },
          "metadata": {},
          "execution_count": 1
        }
      ],
      "source": [
        "import os\n",
        "\n",
        "# Example 1: Get current working directory\n",
        "current_directory = os.getcwd()\n",
        "current_directory"
      ]
    },
    {
      "cell_type": "code",
      "execution_count": 2,
      "metadata": {
        "id": "8hN95BmE9PHu",
        "colab": {
          "base_uri": "https://localhost:8080/"
        },
        "outputId": "0a43dd5b-48e2-4d14-bfb6-eff165755d28"
      },
      "outputs": [
        {
          "output_type": "execute_result",
          "data": {
            "text/plain": [
              "['.config', 'sample_data']"
            ]
          },
          "metadata": {},
          "execution_count": 2
        }
      ],
      "source": [
        "# Example 2: List files in the current directory\n",
        "files = os.listdir(current_directory)\n",
        "files"
      ]
    },
    {
      "cell_type": "code",
      "execution_count": 3,
      "metadata": {
        "id": "xN4Z5pYw9PHv",
        "colab": {
          "base_uri": "https://localhost:8080/",
          "height": 36
        },
        "outputId": "60488ddb-8827-48ac-a02e-25492da502be"
      },
      "outputs": [
        {
          "output_type": "execute_result",
          "data": {
            "text/plain": [
              "'/content/new_folder'"
            ],
            "application/vnd.google.colaboratory.intrinsic+json": {
              "type": "string"
            }
          },
          "metadata": {},
          "execution_count": 3
        }
      ],
      "source": [
        "# Example 3: Create a new directory\n",
        "new_directory = os.path.join(current_directory, 'new_folder')\n",
        "os.makedirs(new_directory, exist_ok=True)\n",
        "new_directory"
      ]
    },
    {
      "cell_type": "code",
      "source": [
        "# Example 3: Create a new directory\n",
        "new_directory = os.path.join(current_directory, 'new_folder')\n",
        "os.mkdir(new_directory)\n",
        "new_directory"
      ],
      "metadata": {
        "colab": {
          "base_uri": "https://localhost:8080/",
          "height": 193
        },
        "id": "yvQg0p9yOXwb",
        "outputId": "9e8a57de-72fa-4c25-8d6f-e639139c5ffb"
      },
      "execution_count": 4,
      "outputs": [
        {
          "output_type": "error",
          "ename": "FileExistsError",
          "evalue": "[Errno 17] File exists: '/content/new_folder'",
          "traceback": [
            "\u001b[0;31m---------------------------------------------------------------------------\u001b[0m",
            "\u001b[0;31mFileExistsError\u001b[0m                           Traceback (most recent call last)",
            "\u001b[0;32m<ipython-input-4-8f765312d9cf>\u001b[0m in \u001b[0;36m<cell line: 3>\u001b[0;34m()\u001b[0m\n\u001b[1;32m      1\u001b[0m \u001b[0;31m# Example 3: Create a new directory\u001b[0m\u001b[0;34m\u001b[0m\u001b[0;34m\u001b[0m\u001b[0m\n\u001b[1;32m      2\u001b[0m \u001b[0mnew_directory\u001b[0m \u001b[0;34m=\u001b[0m \u001b[0mos\u001b[0m\u001b[0;34m.\u001b[0m\u001b[0mpath\u001b[0m\u001b[0;34m.\u001b[0m\u001b[0mjoin\u001b[0m\u001b[0;34m(\u001b[0m\u001b[0mcurrent_directory\u001b[0m\u001b[0;34m,\u001b[0m \u001b[0;34m'new_folder'\u001b[0m\u001b[0;34m)\u001b[0m\u001b[0;34m\u001b[0m\u001b[0;34m\u001b[0m\u001b[0m\n\u001b[0;32m----> 3\u001b[0;31m \u001b[0mos\u001b[0m\u001b[0;34m.\u001b[0m\u001b[0mmkdir\u001b[0m\u001b[0;34m(\u001b[0m\u001b[0mnew_directory\u001b[0m\u001b[0;34m)\u001b[0m\u001b[0;34m\u001b[0m\u001b[0;34m\u001b[0m\u001b[0m\n\u001b[0m\u001b[1;32m      4\u001b[0m \u001b[0mnew_directory\u001b[0m\u001b[0;34m\u001b[0m\u001b[0;34m\u001b[0m\u001b[0m\n",
            "\u001b[0;31mFileExistsError\u001b[0m: [Errno 17] File exists: '/content/new_folder'"
          ]
        }
      ]
    },
    {
      "cell_type": "code",
      "execution_count": 5,
      "metadata": {
        "id": "EQuQw1qv9PHw"
      },
      "outputs": [],
      "source": [
        "# Example 4: Remove a directory\n",
        "os.rmdir(new_directory)  # Ensure the directory is empty before removing it\n"
      ]
    },
    {
      "cell_type": "code",
      "execution_count": 6,
      "metadata": {
        "id": "4hX-Q6KQ9PHw",
        "colab": {
          "base_uri": "https://localhost:8080/"
        },
        "outputId": "61e6881d-47dc-477b-9a04-49e2ecabd333"
      },
      "outputs": [
        {
          "output_type": "execute_result",
          "data": {
            "text/plain": [
              "environ{'SHELL': '/bin/bash',\n",
              "        'NV_LIBCUBLAS_VERSION': '12.2.5.6-1',\n",
              "        'NVIDIA_VISIBLE_DEVICES': 'all',\n",
              "        'COLAB_JUPYTER_TRANSPORT': 'ipc',\n",
              "        'NV_NVML_DEV_VERSION': '12.2.140-1',\n",
              "        'NV_CUDNN_PACKAGE_NAME': 'libcudnn8',\n",
              "        'CGROUP_MEMORY_EVENTS': '/sys/fs/cgroup/memory.events /var/colab/cgroup/jupyter-children/memory.events',\n",
              "        'NV_LIBNCCL_DEV_PACKAGE': 'libnccl-dev=2.19.3-1+cuda12.2',\n",
              "        'NV_LIBNCCL_DEV_PACKAGE_VERSION': '2.19.3-1',\n",
              "        'VM_GCE_METADATA_HOST': '169.254.169.253',\n",
              "        'HOSTNAME': 'ad8ca39acfa3',\n",
              "        'LANGUAGE': 'en_US',\n",
              "        'TBE_RUNTIME_ADDR': '172.28.0.1:8011',\n",
              "        'COLAB_TPU_1VM': '',\n",
              "        'GCE_METADATA_TIMEOUT': '3',\n",
              "        'NVIDIA_REQUIRE_CUDA': 'cuda>=12.2 brand=tesla,driver>=470,driver<471 brand=unknown,driver>=470,driver<471 brand=nvidia,driver>=470,driver<471 brand=nvidiartx,driver>=470,driver<471 brand=geforce,driver>=470,driver<471 brand=geforcertx,driver>=470,driver<471 brand=quadro,driver>=470,driver<471 brand=quadrortx,driver>=470,driver<471 brand=titan,driver>=470,driver<471 brand=titanrtx,driver>=470,driver<471 brand=tesla,driver>=525,driver<526 brand=unknown,driver>=525,driver<526 brand=nvidia,driver>=525,driver<526 brand=nvidiartx,driver>=525,driver<526 brand=geforce,driver>=525,driver<526 brand=geforcertx,driver>=525,driver<526 brand=quadro,driver>=525,driver<526 brand=quadrortx,driver>=525,driver<526 brand=titan,driver>=525,driver<526 brand=titanrtx,driver>=525,driver<526',\n",
              "        'NV_LIBCUBLAS_DEV_PACKAGE': 'libcublas-dev-12-2=12.2.5.6-1',\n",
              "        'NV_NVTX_VERSION': '12.2.140-1',\n",
              "        'COLAB_JUPYTER_IP': '172.28.0.12',\n",
              "        'NV_CUDA_CUDART_DEV_VERSION': '12.2.140-1',\n",
              "        'NV_LIBCUSPARSE_VERSION': '12.1.2.141-1',\n",
              "        'COLAB_LANGUAGE_SERVER_PROXY_ROOT_URL': 'http://172.28.0.1:8013/',\n",
              "        'NV_LIBNPP_VERSION': '12.2.1.4-1',\n",
              "        'NCCL_VERSION': '2.19.3-1',\n",
              "        'KMP_LISTEN_PORT': '6000',\n",
              "        'TF_FORCE_GPU_ALLOW_GROWTH': 'true',\n",
              "        'ENV': '/root/.bashrc',\n",
              "        'PWD': '/',\n",
              "        'TBE_EPHEM_CREDS_ADDR': '172.28.0.1:8009',\n",
              "        'COLAB_LANGUAGE_SERVER_PROXY_REQUEST_TIMEOUT': '30s',\n",
              "        'TBE_CREDS_ADDR': '172.28.0.1:8008',\n",
              "        'NV_CUDNN_PACKAGE': 'libcudnn8=8.9.6.50-1+cuda12.2',\n",
              "        'NVIDIA_DRIVER_CAPABILITIES': 'compute,utility',\n",
              "        'COLAB_JUPYTER_TOKEN': '',\n",
              "        'LAST_FORCED_REBUILD': '20241028',\n",
              "        'NV_NVPROF_DEV_PACKAGE': 'cuda-nvprof-12-2=12.2.142-1',\n",
              "        'NV_LIBNPP_PACKAGE': 'libnpp-12-2=12.2.1.4-1',\n",
              "        'NV_LIBNCCL_DEV_PACKAGE_NAME': 'libnccl-dev',\n",
              "        'TCLLIBPATH': '/usr/share/tcltk/tcllib1.20',\n",
              "        'NV_LIBCUBLAS_DEV_VERSION': '12.2.5.6-1',\n",
              "        'NVIDIA_PRODUCT_NAME': 'CUDA',\n",
              "        'COLAB_KERNEL_MANAGER_PROXY_HOST': '172.28.0.12',\n",
              "        'NV_LIBCUBLAS_DEV_PACKAGE_NAME': 'libcublas-dev-12-2',\n",
              "        'NV_CUDA_CUDART_VERSION': '12.2.140-1',\n",
              "        'COLAB_WARMUP_DEFAULTS': '1',\n",
              "        'HOME': '/root',\n",
              "        'LANG': 'en_US.UTF-8',\n",
              "        'COLUMNS': '100',\n",
              "        'CUDA_VERSION': '12.2.2',\n",
              "        'CLOUDSDK_CONFIG': '/content/.config',\n",
              "        'NV_LIBCUBLAS_PACKAGE': 'libcublas-12-2=12.2.5.6-1',\n",
              "        'NV_CUDA_NSIGHT_COMPUTE_DEV_PACKAGE': 'cuda-nsight-compute-12-2=12.2.2-1',\n",
              "        'COLAB_RELEASE_TAG': 'release-colab_20241031-060132_RC00',\n",
              "        'KMP_TARGET_PORT': '9000',\n",
              "        'KMP_EXTRA_ARGS': '--logtostderr --listen_host=172.28.0.12 --target_host=172.28.0.12 --tunnel_background_save_url=https://colab.research.google.com/tun/m/cc48301118ce562b961b3c22d803539adc1e0c19/m-s-3iavhql4dunjz --tunnel_background_save_delay=10s --tunnel_periodic_background_save_frequency=30m0s --enable_output_coalescing=true --output_coalescing_required=true',\n",
              "        'NV_LIBNPP_DEV_PACKAGE': 'libnpp-dev-12-2=12.2.1.4-1',\n",
              "        'COLAB_LANGUAGE_SERVER_PROXY_LSP_DIRS': '/datalab/web/pyright/typeshed-fallback/stdlib,/usr/local/lib/python3.10/dist-packages',\n",
              "        'NV_LIBCUBLAS_PACKAGE_NAME': 'libcublas-12-2',\n",
              "        'COLAB_KERNEL_MANAGER_PROXY_PORT': '6000',\n",
              "        'CLOUDSDK_PYTHON': 'python3',\n",
              "        'NV_LIBNPP_DEV_VERSION': '12.2.1.4-1',\n",
              "        'NO_GCE_CHECK': 'False',\n",
              "        'PYTHONPATH': '/env/python',\n",
              "        'NV_LIBCUSPARSE_DEV_VERSION': '12.1.2.141-1',\n",
              "        'LIBRARY_PATH': '/usr/local/cuda/lib64/stubs',\n",
              "        'NV_CUDNN_VERSION': '8.9.6.50',\n",
              "        'SHLVL': '0',\n",
              "        'NV_CUDA_LIB_VERSION': '12.2.2-1',\n",
              "        'COLAB_LANGUAGE_SERVER_PROXY': '/usr/colab/bin/language_service',\n",
              "        'NVARCH': 'x86_64',\n",
              "        'NV_CUDNN_PACKAGE_DEV': 'libcudnn8-dev=8.9.6.50-1+cuda12.2',\n",
              "        'NV_CUDA_COMPAT_PACKAGE': 'cuda-compat-12-2',\n",
              "        'NV_LIBNCCL_PACKAGE': 'libnccl2=2.19.3-1+cuda12.2',\n",
              "        'LD_LIBRARY_PATH': '/usr/local/nvidia/lib:/usr/local/nvidia/lib64',\n",
              "        'COLAB_GPU': '',\n",
              "        'NV_CUDA_NSIGHT_COMPUTE_VERSION': '12.2.2-1',\n",
              "        'GCS_READ_CACHE_BLOCK_SIZE_MB': '16',\n",
              "        'NV_NVPROF_VERSION': '12.2.142-1',\n",
              "        'LC_ALL': 'en_US.UTF-8',\n",
              "        'COLAB_FILE_HANDLER_ADDR': 'localhost:3453',\n",
              "        'PATH': '/opt/bin:/usr/local/nvidia/bin:/usr/local/cuda/bin:/usr/local/sbin:/usr/local/bin:/usr/sbin:/usr/bin:/sbin:/bin:/tools/node/bin:/tools/google-cloud-sdk/bin',\n",
              "        'NV_LIBNCCL_PACKAGE_NAME': 'libnccl2',\n",
              "        'COLAB_DEBUG_ADAPTER_MUX_PATH': '/usr/local/bin/dap_multiplexer',\n",
              "        'NV_LIBNCCL_PACKAGE_VERSION': '2.19.3-1',\n",
              "        'PYTHONWARNINGS': 'ignore:::pip._internal.cli.base_command',\n",
              "        'DEBIAN_FRONTEND': 'noninteractive',\n",
              "        'COLAB_BACKEND_VERSION': 'next',\n",
              "        'OLDPWD': '/',\n",
              "        'JPY_PARENT_PID': '91',\n",
              "        'TERM': 'xterm-color',\n",
              "        'CLICOLOR': '1',\n",
              "        'PAGER': 'cat',\n",
              "        'GIT_PAGER': 'cat',\n",
              "        'MPLBACKEND': 'module://ipykernel.pylab.backend_inline',\n",
              "        'ENABLE_DIRECTORYPREFETCHER': '1',\n",
              "        'USE_AUTH_EPHEM': '1',\n",
              "        'PYDEVD_USE_FRAME_EVAL': 'NO'}"
            ]
          },
          "metadata": {},
          "execution_count": 6
        }
      ],
      "source": [
        "# Example 5: Get environment variables\n",
        "env_vars = os.environ\n",
        "env_vars"
      ]
    },
    {
      "cell_type": "code",
      "source": [
        "# Example 3: Create a new directory\n",
        "new_directory = os.path.join(current_directory, 'new_folder')\n",
        "os.makedirs(new_directory, exist_ok=True)\n",
        "new_directory"
      ],
      "metadata": {
        "colab": {
          "base_uri": "https://localhost:8080/",
          "height": 36
        },
        "id": "rOoCwUy8PN4S",
        "outputId": "1f43210c-e378-4cfe-b6eb-0eb24de75f69"
      },
      "execution_count": 7,
      "outputs": [
        {
          "output_type": "execute_result",
          "data": {
            "text/plain": [
              "'/content/new_folder'"
            ],
            "application/vnd.google.colaboratory.intrinsic+json": {
              "type": "string"
            }
          },
          "metadata": {},
          "execution_count": 7
        }
      ]
    },
    {
      "cell_type": "code",
      "source": [
        "# How change directories\n",
        "%cd new_folder"
      ],
      "metadata": {
        "colab": {
          "base_uri": "https://localhost:8080/"
        },
        "id": "zSmiyei8Pl3K",
        "outputId": "5f7d5f68-9ad7-4ef4-ac2c-9410ea85bedb"
      },
      "execution_count": 8,
      "outputs": [
        {
          "output_type": "stream",
          "name": "stdout",
          "text": [
            "/content/new_folder\n"
          ]
        }
      ]
    },
    {
      "cell_type": "code",
      "source": [
        "# Example 1: Get current working directory\n",
        "current_directory = os.getcwd()\n",
        "current_directory"
      ],
      "metadata": {
        "colab": {
          "base_uri": "https://localhost:8080/",
          "height": 36
        },
        "id": "VzQYg3KdPrhZ",
        "outputId": "9fb0935e-d6e3-4323-cc36-421cba084462"
      },
      "execution_count": 10,
      "outputs": [
        {
          "output_type": "execute_result",
          "data": {
            "text/plain": [
              "'/content/new_folder'"
            ],
            "application/vnd.google.colaboratory.intrinsic+json": {
              "type": "string"
            }
          },
          "metadata": {},
          "execution_count": 10
        }
      ]
    },
    {
      "cell_type": "code",
      "source": [
        "for i in range(10):\n",
        "    os.mkdir(f'dir{i}')"
      ],
      "metadata": {
        "id": "1Jsw8O3lQejs"
      },
      "execution_count": 11,
      "outputs": []
    },
    {
      "cell_type": "markdown",
      "metadata": {
        "id": "39jb59Dz9PHx"
      },
      "source": [
        "## Glob\n",
        "The `glob` module finds all the pathnames matching a specified pattern according to the rules used by the Unix shell. It is useful for file searching.\n",
        "\n",
        "### Features:\n",
        "- Pattern matching for file names\n",
        "- Supports wildcards\n",
        "\n",
        "### Examples:"
      ]
    },
    {
      "cell_type": "code",
      "source": [
        "!git clone https://github.com/numpy/numpy"
      ],
      "metadata": {
        "colab": {
          "base_uri": "https://localhost:8080/"
        },
        "id": "d2pN2optRe4K",
        "outputId": "f5e265e4-e7dd-4d70-8d3f-34b1ed091554"
      },
      "execution_count": 13,
      "outputs": [
        {
          "output_type": "stream",
          "name": "stdout",
          "text": [
            "Cloning into 'numpy'...\n",
            "remote: Enumerating objects: 282430, done.\u001b[K\n",
            "remote: Counting objects: 100% (1220/1220), done.\u001b[K\n",
            "remote: Compressing objects: 100% (599/599), done.\u001b[K\n",
            "remote: Total 282430 (delta 783), reused 955 (delta 614), pack-reused 281210 (from 1)\u001b[K\n",
            "Receiving objects: 100% (282430/282430), 144.91 MiB | 20.65 MiB/s, done.\n",
            "Resolving deltas: 100% (223073/223073), done.\n"
          ]
        }
      ]
    },
    {
      "cell_type": "code",
      "execution_count": 15,
      "metadata": {
        "id": "GXbm1ATe9PHx",
        "colab": {
          "base_uri": "https://localhost:8080/"
        },
        "outputId": "d0e77b75-fa84-4be0-ada9-e058db7d1837"
      },
      "outputs": [
        {
          "output_type": "execute_result",
          "data": {
            "text/plain": [
              "['./numpy/pavement.py']"
            ]
          },
          "metadata": {},
          "execution_count": 15
        }
      ],
      "source": [
        "import glob\n",
        "\n",
        "# Example 1: Find all Python files\n",
        "py_files = glob.glob('./numpy/*.py')\n",
        "py_files"
      ]
    },
    {
      "cell_type": "code",
      "execution_count": 16,
      "metadata": {
        "id": "RMjMvBaJ9PHx",
        "colab": {
          "base_uri": "https://localhost:8080/"
        },
        "outputId": "47e90f5a-05ce-436b-c1be-f0a82d234210"
      },
      "outputs": [
        {
          "output_type": "execute_result",
          "data": {
            "text/plain": [
              "[]"
            ]
          },
          "metadata": {},
          "execution_count": 16
        }
      ],
      "source": [
        "# Example 2: Find all text files in a directory\n",
        "txt_files = glob.glob('*.txt')\n",
        "txt_files"
      ]
    },
    {
      "cell_type": "code",
      "execution_count": 17,
      "metadata": {
        "id": "0ZGDwDSG9PHy",
        "colab": {
          "base_uri": "https://localhost:8080/"
        },
        "outputId": "4eda9876-ebaa-4beb-c5f2-cb9c589374f5"
      },
      "outputs": [
        {
          "output_type": "execute_result",
          "data": {
            "text/plain": [
              "[]"
            ]
          },
          "metadata": {},
          "execution_count": 17
        }
      ],
      "source": [
        "# Example 3: Find files with a specific pattern\n",
        "pattern_files = glob.glob('data/*.csv')\n",
        "pattern_files"
      ]
    },
    {
      "cell_type": "code",
      "execution_count": 22,
      "metadata": {
        "id": "qxRa3HRY9PHy",
        "colab": {
          "base_uri": "https://localhost:8080/"
        },
        "outputId": "ded0f4bc-a6f5-4dc5-a278-58392176bfa9"
      },
      "outputs": [
        {
          "output_type": "execute_result",
          "data": {
            "text/plain": [
              "['numpy/tools/swig/test/testMatrix.py']"
            ]
          },
          "metadata": {},
          "execution_count": 22
        }
      ],
      "source": [
        "# Example 4: Using recursive search\n",
        "all_py_files = glob.glob('**/*M*.py', recursive=True)\n",
        "all_py_files"
      ]
    },
    {
      "cell_type": "code",
      "execution_count": 23,
      "metadata": {
        "id": "tUsHKyea9PHy",
        "colab": {
          "base_uri": "https://localhost:8080/"
        },
        "outputId": "9d69adc1-fb89-4b19-8622-0f3107c651b5"
      },
      "outputs": [
        {
          "output_type": "execute_result",
          "data": {
            "text/plain": [
              "[]"
            ]
          },
          "metadata": {},
          "execution_count": 23
        }
      ],
      "source": [
        "# Example 5: Find all JPEG images\n",
        "jpeg_files = glob.glob('*.jpeg')\n",
        "jpeg_files"
      ]
    },
    {
      "cell_type": "markdown",
      "metadata": {
        "id": "5nnO2Qon9PHy"
      },
      "source": [
        "## NumPy\n",
        "NumPy is the fundamental package for numerical computations in Python. It provides support for arrays, matrices, and many mathematical functions.\n",
        "\n",
        "### Features:\n",
        "- N-dimensional arrays\n",
        "- Mathematical functions\n",
        "- Linear algebra routines\n",
        "\n",
        "### Examples:"
      ]
    },
    {
      "cell_type": "code",
      "execution_count": 1,
      "metadata": {
        "id": "3-jeAxti9PHz",
        "colab": {
          "base_uri": "https://localhost:8080/"
        },
        "outputId": "85835a9b-5959-41dd-cf74-7e744a7e5d33"
      },
      "outputs": [
        {
          "output_type": "execute_result",
          "data": {
            "text/plain": [
              "array([1, 2, 3, 4, 5])"
            ]
          },
          "metadata": {},
          "execution_count": 1
        }
      ],
      "source": [
        "import numpy as np\n",
        "\n",
        "# Example 1: Create a 1D array\n",
        "array_1d = np.array([1, 2, 3, 4, 5])\n",
        "array_1d"
      ]
    },
    {
      "cell_type": "code",
      "execution_count": 25,
      "metadata": {
        "id": "fr9LGl9t9PHz",
        "colab": {
          "base_uri": "https://localhost:8080/"
        },
        "outputId": "301b8e94-5a3d-4b64-ba66-f3abc19eaac1"
      },
      "outputs": [
        {
          "output_type": "execute_result",
          "data": {
            "text/plain": [
              "array([[1, 2, 3],\n",
              "       [4, 5, 6]])"
            ]
          },
          "metadata": {},
          "execution_count": 25
        }
      ],
      "source": [
        "# Example 2: Create a 2D array\n",
        "array_2d = np.array([[1, 2, 3], [4, 5, 6]])\n",
        "array_2d"
      ]
    },
    {
      "cell_type": "code",
      "execution_count": 26,
      "metadata": {
        "id": "VEAVgkyx9PHz",
        "colab": {
          "base_uri": "https://localhost:8080/"
        },
        "outputId": "c2885f58-8839-4ec7-d0ec-4d52e2e4833a"
      },
      "outputs": [
        {
          "output_type": "execute_result",
          "data": {
            "text/plain": [
              "3.0"
            ]
          },
          "metadata": {},
          "execution_count": 26
        }
      ],
      "source": [
        "# Example 3: Compute the mean of an array\n",
        "mean_value = np.mean(array_1d)\n",
        "mean_value"
      ]
    },
    {
      "cell_type": "code",
      "source": [
        "# Example 4: Compute the mean of an 2d-array\n",
        "mean_value = np.mean(array_2d)\n",
        "mean_value"
      ],
      "metadata": {
        "colab": {
          "base_uri": "https://localhost:8080/"
        },
        "id": "5P86jiS7UD4y",
        "outputId": "52e8b2fc-7f9c-4730-f98e-72b62c8dae94"
      },
      "execution_count": 27,
      "outputs": [
        {
          "output_type": "execute_result",
          "data": {
            "text/plain": [
              "3.5"
            ]
          },
          "metadata": {},
          "execution_count": 27
        }
      ]
    },
    {
      "cell_type": "code",
      "source": [
        "# Example 5: Compute the mean of an 2d-array in each column\n",
        "mean_value = np.mean(array_2d, axis=1)\n",
        "mean_value"
      ],
      "metadata": {
        "colab": {
          "base_uri": "https://localhost:8080/"
        },
        "id": "kEA1RR2XUI6Q",
        "outputId": "61e21c9b-8a24-429b-af31-27dd16fa6c30"
      },
      "execution_count": 28,
      "outputs": [
        {
          "output_type": "execute_result",
          "data": {
            "text/plain": [
              "array([2., 5.])"
            ]
          },
          "metadata": {},
          "execution_count": 28
        }
      ]
    },
    {
      "cell_type": "code",
      "source": [
        "# Example 6: Compute the mean of an 2d-array in each row\n",
        "mean_value = np.mean(array_2d, axis=0)\n",
        "mean_value"
      ],
      "metadata": {
        "colab": {
          "base_uri": "https://localhost:8080/"
        },
        "id": "l1aRvJmtUTya",
        "outputId": "31b554fd-ba9e-4ee5-e17c-f0c76600e663"
      },
      "execution_count": 29,
      "outputs": [
        {
          "output_type": "execute_result",
          "data": {
            "text/plain": [
              "array([2.5, 3.5, 4.5])"
            ]
          },
          "metadata": {},
          "execution_count": 29
        }
      ]
    },
    {
      "cell_type": "code",
      "source": [
        "# Example 7: Compute the median of an 2d-array in each column\n",
        "median_value = np.median(array_2d, axis=1)\n",
        "median_value"
      ],
      "metadata": {
        "colab": {
          "base_uri": "https://localhost:8080/"
        },
        "id": "duvhPIg6Upax",
        "outputId": "7ca6528f-3b47-4a64-d7b9-b220fc3e98c3"
      },
      "execution_count": 32,
      "outputs": [
        {
          "output_type": "execute_result",
          "data": {
            "text/plain": [
              "array([2., 5.])"
            ]
          },
          "metadata": {},
          "execution_count": 32
        }
      ]
    },
    {
      "cell_type": "code",
      "source": [
        "# Example 8: Compute the median of an 2d-array in each row\n",
        "median_value = np.median(array_2d, axis=0)\n",
        "median_value"
      ],
      "metadata": {
        "colab": {
          "base_uri": "https://localhost:8080/"
        },
        "id": "lScmSBgqUcDA",
        "outputId": "c281472e-77f0-46f4-ed74-61c2053adbf8"
      },
      "execution_count": 31,
      "outputs": [
        {
          "output_type": "execute_result",
          "data": {
            "text/plain": [
              "array([2.5, 3.5, 4.5])"
            ]
          },
          "metadata": {},
          "execution_count": 31
        }
      ]
    },
    {
      "cell_type": "code",
      "source": [
        "# Example 10: Create a 2D array\n",
        "array_2d = np.array([[1, 2, 3, 5, 10, 15, 20], [4, 5, 6, 30, 50, 21, 40], [5, 8, 12, 70, 51, 29, 78]])\n",
        "array_2d"
      ],
      "metadata": {
        "colab": {
          "base_uri": "https://localhost:8080/"
        },
        "id": "XR3Lak8jU5pI",
        "outputId": "81037169-27bf-4d35-d4b6-c0700344d439"
      },
      "execution_count": 34,
      "outputs": [
        {
          "output_type": "execute_result",
          "data": {
            "text/plain": [
              "array([[ 1,  2,  3,  5, 10, 15, 20],\n",
              "       [ 4,  5,  6, 30, 50, 21, 40],\n",
              "       [ 5,  8, 12, 70, 51, 29, 78]])"
            ]
          },
          "metadata": {},
          "execution_count": 34
        }
      ]
    },
    {
      "cell_type": "code",
      "source": [
        "# How to know what is the matrix or array shape (row, column, ...)\n",
        "array_2d.shape"
      ],
      "metadata": {
        "colab": {
          "base_uri": "https://localhost:8080/"
        },
        "id": "yreB_hQnVN1X",
        "outputId": "458520e3-1211-4d7a-f935-981dc8a2e32f"
      },
      "execution_count": 36,
      "outputs": [
        {
          "output_type": "execute_result",
          "data": {
            "text/plain": [
              "(3, 7)"
            ]
          },
          "metadata": {},
          "execution_count": 36
        }
      ]
    },
    {
      "cell_type": "code",
      "source": [
        "# Example 11: Compute the mean and median of an 2d-array in each row\n",
        "mean_value = np.mean(array_2d, axis=0)\n",
        "median_value = np.median(array_2d, axis=0)\n",
        "mean_value, median_value"
      ],
      "metadata": {
        "colab": {
          "base_uri": "https://localhost:8080/"
        },
        "id": "6acOBguIVXhB",
        "outputId": "1235a398-cdbd-4c1f-c34b-1422616a2dbc"
      },
      "execution_count": 37,
      "outputs": [
        {
          "output_type": "execute_result",
          "data": {
            "text/plain": [
              "(array([ 3.33333333,  5.        ,  7.        , 35.        , 37.        ,\n",
              "        21.66666667, 46.        ]),\n",
              " array([ 4.,  5.,  6., 30., 50., 21., 40.]))"
            ]
          },
          "metadata": {},
          "execution_count": 37
        }
      ]
    },
    {
      "cell_type": "code",
      "source": [
        "# Example 11: Compute the mean and median of an 2d-array in each column\n",
        "mean_value = np.mean(array_2d, axis=1)\n",
        "median_value = np.median(array_2d, axis=1)\n",
        "mean_value, median_value"
      ],
      "metadata": {
        "colab": {
          "base_uri": "https://localhost:8080/"
        },
        "id": "6lrvIMAWV0L-",
        "outputId": "6fedf962-315c-44ae-e7d1-bbb8d782eff2"
      },
      "execution_count": 39,
      "outputs": [
        {
          "output_type": "execute_result",
          "data": {
            "text/plain": [
              "(array([ 8.        , 22.28571429, 36.14285714]), array([ 5., 21., 29.]))"
            ]
          },
          "metadata": {},
          "execution_count": 39
        }
      ]
    },
    {
      "cell_type": "code",
      "execution_count": 40,
      "metadata": {
        "id": "fCzokghM9PHz",
        "colab": {
          "base_uri": "https://localhost:8080/"
        },
        "outputId": "7013d468-8226-4ccc-8bee-35c7991cc6d0"
      },
      "outputs": [
        {
          "output_type": "execute_result",
          "data": {
            "text/plain": [
              "array([11, 12, 13, 14, 15])"
            ]
          },
          "metadata": {},
          "execution_count": 40
        }
      ],
      "source": [
        "# Example 12: Perform element-wise addition\n",
        "array_added = array_1d + 10\n",
        "array_added"
      ]
    },
    {
      "cell_type": "code",
      "source": [
        "# Example 13: Perform element-wise addition based on the array\n",
        "array_added = array_1d + array_1d\n",
        "array_added"
      ],
      "metadata": {
        "colab": {
          "base_uri": "https://localhost:8080/"
        },
        "id": "OdHCxCqXXt25",
        "outputId": "febe5121-4a13-4573-d8a4-6d85f24cdb32"
      },
      "execution_count": 41,
      "outputs": [
        {
          "output_type": "execute_result",
          "data": {
            "text/plain": [
              "array([ 2,  4,  6,  8, 10])"
            ]
          },
          "metadata": {},
          "execution_count": 41
        }
      ]
    },
    {
      "cell_type": "code",
      "execution_count": 42,
      "metadata": {
        "id": "9pyqE7IL9PHz",
        "colab": {
          "base_uri": "https://localhost:8080/"
        },
        "outputId": "f8b24382-4f25-4d75-efaa-648f48eef4b1"
      },
      "outputs": [
        {
          "output_type": "execute_result",
          "data": {
            "text/plain": [
              "array([[ 1,  2,  3],\n",
              "       [ 5, 10, 15],\n",
              "       [20,  4,  5],\n",
              "       [ 6, 30, 50],\n",
              "       [21, 40,  5],\n",
              "       [ 8, 12, 70],\n",
              "       [51, 29, 78]])"
            ]
          },
          "metadata": {},
          "execution_count": 42
        }
      ],
      "source": [
        "# Example 14: Reshape an array\n",
        "reshaped_array = array_2d.reshape((7, 3))\n",
        "reshaped_array"
      ]
    },
    {
      "cell_type": "code",
      "source": [
        "# Example 15: Transformation\n",
        "reshaped_array = array_2d.T\n",
        "reshaped_array"
      ],
      "metadata": {
        "colab": {
          "base_uri": "https://localhost:8080/"
        },
        "id": "v_WuNC_9YDqI",
        "outputId": "14bd6ab5-79d6-4f06-a18d-e4858c7f51b4"
      },
      "execution_count": 43,
      "outputs": [
        {
          "output_type": "execute_result",
          "data": {
            "text/plain": [
              "array([[ 1,  4,  5],\n",
              "       [ 2,  5,  8],\n",
              "       [ 3,  6, 12],\n",
              "       [ 5, 30, 70],\n",
              "       [10, 50, 51],\n",
              "       [15, 21, 29],\n",
              "       [20, 40, 78]])"
            ]
          },
          "metadata": {},
          "execution_count": 43
        }
      ]
    },
    {
      "cell_type": "code",
      "source": [
        "# Example 16: Slicing data\n",
        "array_2d[:2,3:]"
      ],
      "metadata": {
        "colab": {
          "base_uri": "https://localhost:8080/"
        },
        "id": "peKqboK8dBNq",
        "outputId": "76a40a2e-fc33-4770-de03-4335e9887eb0"
      },
      "execution_count": 44,
      "outputs": [
        {
          "output_type": "execute_result",
          "data": {
            "text/plain": [
              "array([[ 5, 10, 15, 20],\n",
              "       [30, 50, 21, 40]])"
            ]
          },
          "metadata": {},
          "execution_count": 44
        }
      ]
    },
    {
      "cell_type": "code",
      "source": [
        "# Example 17: number of dimension\n",
        "array_2d.ndim"
      ],
      "metadata": {
        "colab": {
          "base_uri": "https://localhost:8080/"
        },
        "id": "NPt4hG7mdk9G",
        "outputId": "7d366e42-dc1e-48e8-dc82-fa33f9a45145"
      },
      "execution_count": 45,
      "outputs": [
        {
          "output_type": "execute_result",
          "data": {
            "text/plain": [
              "2"
            ]
          },
          "metadata": {},
          "execution_count": 45
        }
      ]
    },
    {
      "cell_type": "code",
      "source": [
        "# Example 18: size of the data\n",
        "array_2d.size"
      ],
      "metadata": {
        "colab": {
          "base_uri": "https://localhost:8080/"
        },
        "id": "ijO_KAk1dsVG",
        "outputId": "05c2baf3-2ced-48c9-b49d-b61844dbfbd4"
      },
      "execution_count": 46,
      "outputs": [
        {
          "output_type": "execute_result",
          "data": {
            "text/plain": [
              "21"
            ]
          },
          "metadata": {},
          "execution_count": 46
        }
      ]
    },
    {
      "cell_type": "code",
      "source": [
        "# Example 19: NAN values\n",
        "array_2d = np.array([[1, 2, 3, 5, 10, 15, 20], [4, 5, np.nan, 30, 50, 21, 40], [5, 8, 12, 70, 51, 29, 78]])\n",
        "array_2d"
      ],
      "metadata": {
        "colab": {
          "base_uri": "https://localhost:8080/"
        },
        "id": "xRHIoLaMdy2D",
        "outputId": "7cd5340c-46c2-4737-ba6a-c13fa1c0f287"
      },
      "execution_count": 47,
      "outputs": [
        {
          "output_type": "execute_result",
          "data": {
            "text/plain": [
              "array([[ 1.,  2.,  3.,  5., 10., 15., 20.],\n",
              "       [ 4.,  5., nan, 30., 50., 21., 40.],\n",
              "       [ 5.,  8., 12., 70., 51., 29., 78.]])"
            ]
          },
          "metadata": {},
          "execution_count": 47
        }
      ]
    },
    {
      "cell_type": "code",
      "source": [
        "# Example 20: Make a zeros array\n",
        "array_2d = np.zeros((3,7))\n",
        "array_2d"
      ],
      "metadata": {
        "colab": {
          "base_uri": "https://localhost:8080/"
        },
        "id": "v7U-_D5jeLAW",
        "outputId": "41e9fb20-59f2-4d48-be53-7230cbc5c13e"
      },
      "execution_count": 48,
      "outputs": [
        {
          "output_type": "execute_result",
          "data": {
            "text/plain": [
              "array([[0., 0., 0., 0., 0., 0., 0.],\n",
              "       [0., 0., 0., 0., 0., 0., 0.],\n",
              "       [0., 0., 0., 0., 0., 0., 0.]])"
            ]
          },
          "metadata": {},
          "execution_count": 48
        }
      ]
    },
    {
      "cell_type": "code",
      "source": [
        "# Example 21: Make a ones array\n",
        "array_2d = np.ones((3,7))\n",
        "array_2d"
      ],
      "metadata": {
        "colab": {
          "base_uri": "https://localhost:8080/"
        },
        "id": "cQTqPJc9eXqb",
        "outputId": "d66fb984-8c40-45fd-a74b-11a0916adc44"
      },
      "execution_count": 49,
      "outputs": [
        {
          "output_type": "execute_result",
          "data": {
            "text/plain": [
              "array([[1., 1., 1., 1., 1., 1., 1.],\n",
              "       [1., 1., 1., 1., 1., 1., 1.],\n",
              "       [1., 1., 1., 1., 1., 1., 1.]])"
            ]
          },
          "metadata": {},
          "execution_count": 49
        }
      ]
    },
    {
      "cell_type": "code",
      "source": [
        "# Example 22: Make a two array\n",
        "array_2d = 2*np.ones((3,7))\n",
        "array_2d"
      ],
      "metadata": {
        "colab": {
          "base_uri": "https://localhost:8080/"
        },
        "id": "aHcsPrVIer8K",
        "outputId": "9785fb25-2346-4584-8c31-b35a5093f7ff"
      },
      "execution_count": 50,
      "outputs": [
        {
          "output_type": "execute_result",
          "data": {
            "text/plain": [
              "array([[2., 2., 2., 2., 2., 2., 2.],\n",
              "       [2., 2., 2., 2., 2., 2., 2.],\n",
              "       [2., 2., 2., 2., 2., 2., 2.]])"
            ]
          },
          "metadata": {},
          "execution_count": 50
        }
      ]
    },
    {
      "cell_type": "code",
      "source": [
        "# Example 23: Make an range data\n",
        "array_1d = np.arange(0,10)\n",
        "array_1d"
      ],
      "metadata": {
        "colab": {
          "base_uri": "https://localhost:8080/"
        },
        "id": "PfK0Y3lzekH-",
        "outputId": "e062a2fe-667e-42b5-e5fa-314c9e54e6bc"
      },
      "execution_count": 54,
      "outputs": [
        {
          "output_type": "execute_result",
          "data": {
            "text/plain": [
              "array([0, 1, 2, 3, 4, 5, 6, 7, 8, 9])"
            ]
          },
          "metadata": {},
          "execution_count": 54
        }
      ]
    },
    {
      "cell_type": "code",
      "source": [
        "# Example 24: Make a range data with step\n",
        "array_1d = np.arange(0,11,2)\n",
        "array_1d"
      ],
      "metadata": {
        "colab": {
          "base_uri": "https://localhost:8080/"
        },
        "id": "hqDNrjHufPgJ",
        "outputId": "6835126e-ddea-4402-c2c4-b059c1f7d6fa"
      },
      "execution_count": 57,
      "outputs": [
        {
          "output_type": "execute_result",
          "data": {
            "text/plain": [
              "array([ 0,  2,  4,  6,  8, 10])"
            ]
          },
          "metadata": {},
          "execution_count": 57
        }
      ]
    },
    {
      "cell_type": "code",
      "source": [
        "# documentation of a command\n",
        "?np.arange"
      ],
      "metadata": {
        "id": "26sE40jLfcQI"
      },
      "execution_count": 56,
      "outputs": []
    },
    {
      "cell_type": "code",
      "source": [
        "# Example 25: Make a data with specific number\n",
        "array_1d = np.linspace(0,1,9)\n",
        "array_1d"
      ],
      "metadata": {
        "colab": {
          "base_uri": "https://localhost:8080/"
        },
        "id": "6_fwtVcigFjA",
        "outputId": "ebd316f2-5ee5-4054-8f37-2d909f801e87"
      },
      "execution_count": 61,
      "outputs": [
        {
          "output_type": "execute_result",
          "data": {
            "text/plain": [
              "array([0.   , 0.125, 0.25 , 0.375, 0.5  , 0.625, 0.75 , 0.875, 1.   ])"
            ]
          },
          "metadata": {},
          "execution_count": 61
        }
      ]
    },
    {
      "cell_type": "code",
      "source": [
        "array_1d.shape"
      ],
      "metadata": {
        "colab": {
          "base_uri": "https://localhost:8080/"
        },
        "id": "rt0e4payhH2u",
        "outputId": "fd29a9b8-a8cc-4527-ba88-12b9a61607ef"
      },
      "execution_count": 62,
      "outputs": [
        {
          "output_type": "execute_result",
          "data": {
            "text/plain": [
              "(9,)"
            ]
          },
          "metadata": {},
          "execution_count": 62
        }
      ]
    },
    {
      "cell_type": "code",
      "source": [
        "# Example 26: Make a data with specific number\n",
        "array_1d = np.linspace(0,1,10)\n",
        "array_1d"
      ],
      "metadata": {
        "colab": {
          "base_uri": "https://localhost:8080/"
        },
        "id": "26VnBbIBhJrj",
        "outputId": "c565f4a4-2fb9-4fec-9383-d9c47703d838"
      },
      "execution_count": 63,
      "outputs": [
        {
          "output_type": "execute_result",
          "data": {
            "text/plain": [
              "array([0.        , 0.11111111, 0.22222222, 0.33333333, 0.44444444,\n",
              "       0.55555556, 0.66666667, 0.77777778, 0.88888889, 1.        ])"
            ]
          },
          "metadata": {},
          "execution_count": 63
        }
      ]
    },
    {
      "cell_type": "code",
      "source": [
        "# Example 27: Make a data with specific number\n",
        "array_1d = np.linspace(10,100,10)\n",
        "array_1d"
      ],
      "metadata": {
        "colab": {
          "base_uri": "https://localhost:8080/"
        },
        "id": "JvUu67V4hRru",
        "outputId": "df0e9bfa-c1ee-4a72-ab46-533b618ef214"
      },
      "execution_count": 64,
      "outputs": [
        {
          "output_type": "execute_result",
          "data": {
            "text/plain": [
              "array([ 10.,  20.,  30.,  40.,  50.,  60.,  70.,  80.,  90., 100.])"
            ]
          },
          "metadata": {},
          "execution_count": 64
        }
      ]
    },
    {
      "cell_type": "code",
      "source": [
        "# Example 28: Lograrithmic array\n",
        "array_1d = np.logspace(2,10,10)\n",
        "array_1d"
      ],
      "metadata": {
        "colab": {
          "base_uri": "https://localhost:8080/"
        },
        "id": "wpgGMSTVhZ12",
        "outputId": "e85f93f0-35fb-40a5-aaa9-d970f8781866"
      },
      "execution_count": 66,
      "outputs": [
        {
          "output_type": "execute_result",
          "data": {
            "text/plain": [
              "array([1.00000000e+02, 7.74263683e+02, 5.99484250e+03, 4.64158883e+04,\n",
              "       3.59381366e+05, 2.78255940e+06, 2.15443469e+07, 1.66810054e+08,\n",
              "       1.29154967e+09, 1.00000000e+10])"
            ]
          },
          "metadata": {},
          "execution_count": 66
        }
      ]
    },
    {
      "cell_type": "code",
      "source": [
        "# Example 29: exponential function\n",
        "array_1d = np.linspace(10,100,10)\n",
        "array_1d = np.exp(array_1d)\n",
        "array_1d"
      ],
      "metadata": {
        "colab": {
          "base_uri": "https://localhost:8080/"
        },
        "id": "HauCTm31h8am",
        "outputId": "1bba0dcb-a47c-4bcf-86c6-ed5f17ce2a57"
      },
      "execution_count": 70,
      "outputs": [
        {
          "output_type": "execute_result",
          "data": {
            "text/plain": [
              "array([2.20264658e+04, 4.85165195e+08, 1.06864746e+13, 2.35385267e+17,\n",
              "       5.18470553e+21, 1.14200739e+26, 2.51543867e+30, 5.54062238e+34,\n",
              "       1.22040329e+39, 2.68811714e+43])"
            ]
          },
          "metadata": {},
          "execution_count": 70
        }
      ]
    },
    {
      "cell_type": "code",
      "source": [
        "# Example 30: logarithmic function\n",
        "array_1d = np.linspace(10,1000,10)\n",
        "array_1d = np.log(array_1d)\n",
        "array_1d"
      ],
      "metadata": {
        "colab": {
          "base_uri": "https://localhost:8080/"
        },
        "id": "5dNJnzlnic7R",
        "outputId": "260422cf-c988-44e9-b4b5-d130cc051ca2"
      },
      "execution_count": 72,
      "outputs": [
        {
          "output_type": "execute_result",
          "data": {
            "text/plain": [
              "array([2.30258509, 4.78749174, 5.43807931, 5.82894562, 6.10924758,\n",
              "       6.32793678, 6.50727771, 6.65929392, 6.79122146, 6.90775528])"
            ]
          },
          "metadata": {},
          "execution_count": 72
        }
      ]
    },
    {
      "cell_type": "code",
      "source": [
        "# Example 31: sorting data\n",
        "array_1d = [10,20,10, 30, 21, 51, 11]\n",
        "array_1d = np.sort(array_1d)\n",
        "array_1d"
      ],
      "metadata": {
        "colab": {
          "base_uri": "https://localhost:8080/"
        },
        "id": "MPCXE5xPi5JG",
        "outputId": "16e0dcea-9504-41d4-fb8b-4fed84821706"
      },
      "execution_count": 73,
      "outputs": [
        {
          "output_type": "execute_result",
          "data": {
            "text/plain": [
              "array([10, 10, 11, 20, 21, 30, 51])"
            ]
          },
          "metadata": {},
          "execution_count": 73
        }
      ]
    },
    {
      "cell_type": "code",
      "source": [
        "# Example 32: unique values\n",
        "array_1d = [10,20,10, 30, 21, 51, 11]\n",
        "array_1d = np.unique(array_1d)\n",
        "array_1d"
      ],
      "metadata": {
        "colab": {
          "base_uri": "https://localhost:8080/"
        },
        "id": "vberwrDPjUNo",
        "outputId": "2e3bcb75-f689-4ee2-b0b3-f0811ff0ee0c"
      },
      "execution_count": 74,
      "outputs": [
        {
          "output_type": "execute_result",
          "data": {
            "text/plain": [
              "array([10, 11, 20, 21, 30, 51])"
            ]
          },
          "metadata": {},
          "execution_count": 74
        }
      ]
    },
    {
      "cell_type": "code",
      "source": [
        "# Example 33: concantenate array\n",
        "array_1d = [10,20,10, 30, 21, 51, 11]\n",
        "array_1_second = [1,2,5, 3, 2, 5, 21]\n",
        "array_1d = np.concatenate([array_1d,array_1_second])\n",
        "array_1d"
      ],
      "metadata": {
        "colab": {
          "base_uri": "https://localhost:8080/"
        },
        "id": "0cZyo2LVjbbl",
        "outputId": "280b2c31-5467-41b9-dfa4-d88e1284f226"
      },
      "execution_count": 77,
      "outputs": [
        {
          "output_type": "execute_result",
          "data": {
            "text/plain": [
              "array([10, 20, 10, 30, 21, 51, 11,  1,  2,  5,  3,  2,  5, 21])"
            ]
          },
          "metadata": {},
          "execution_count": 77
        }
      ]
    },
    {
      "cell_type": "code",
      "source": [
        "# Example 34: create a new axis\n",
        "array_1d = np.array([10,20,10, 30, 21, 51, 11])\n",
        "array_1d[np.newaxis,:].shape"
      ],
      "metadata": {
        "colab": {
          "base_uri": "https://localhost:8080/"
        },
        "id": "c-EKFRSRj3XV",
        "outputId": "1d671476-360c-4ba0-acaf-b16fe1e3fd4e"
      },
      "execution_count": 84,
      "outputs": [
        {
          "output_type": "execute_result",
          "data": {
            "text/plain": [
              "(1, 7)"
            ]
          },
          "metadata": {},
          "execution_count": 84
        }
      ]
    },
    {
      "cell_type": "code",
      "source": [
        "# Example 34: filtering data\n",
        "array_1d = np.array([10,20,10, 30, 21, 51, 11])\n",
        "array_1d[array_1d<50]"
      ],
      "metadata": {
        "colab": {
          "base_uri": "https://localhost:8080/"
        },
        "id": "yTdBSjpPkbq2",
        "outputId": "3e3574a8-7af4-4ca0-c29c-e70af5008384"
      },
      "execution_count": 85,
      "outputs": [
        {
          "output_type": "execute_result",
          "data": {
            "text/plain": [
              "array([10, 20, 10, 30, 21, 11])"
            ]
          },
          "metadata": {},
          "execution_count": 85
        }
      ]
    },
    {
      "cell_type": "code",
      "source": [
        "array_1d<50"
      ],
      "metadata": {
        "colab": {
          "base_uri": "https://localhost:8080/"
        },
        "id": "u1Z1MfyjkkCC",
        "outputId": "1b29a7c1-db3e-4bcb-8aca-fb7865526f8d"
      },
      "execution_count": 86,
      "outputs": [
        {
          "output_type": "execute_result",
          "data": {
            "text/plain": [
              "array([ True,  True,  True,  True,  True, False,  True])"
            ]
          },
          "metadata": {},
          "execution_count": 86
        }
      ]
    },
    {
      "cell_type": "code",
      "source": [
        "# Example 35: finding max, min, average, and so on\n",
        "array_1d = np.array([10,20,10, 30, 21, 51, 11])\n",
        "array_1d.min(), array_1d.max(), array_1d.mean()"
      ],
      "metadata": {
        "colab": {
          "base_uri": "https://localhost:8080/"
        },
        "id": "ud9ufYU9kwsS",
        "outputId": "1070cee7-ffbc-483a-feb9-744c0a25168b"
      },
      "execution_count": 87,
      "outputs": [
        {
          "output_type": "execute_result",
          "data": {
            "text/plain": [
              "(10, 51, 21.857142857142858)"
            ]
          },
          "metadata": {},
          "execution_count": 87
        }
      ]
    },
    {
      "cell_type": "code",
      "source": [
        "# Example 36: finding max, min, average on 2d array row wise\n",
        "array_2d = np.array([[1, 2, 3, 5, 10, 15, 20], [4, 5, 10, 30, 50, 21, 40], [5, 8, 12, 70, 51, 29, 78]])\n",
        "\n",
        "array_2d.min(), array_2d.max(), array_2d.mean()"
      ],
      "metadata": {
        "colab": {
          "base_uri": "https://localhost:8080/"
        },
        "id": "FYwb1RSilb4F",
        "outputId": "5d51cb26-9f09-43f6-ed68-f2e8dd3144f7"
      },
      "execution_count": 89,
      "outputs": [
        {
          "output_type": "execute_result",
          "data": {
            "text/plain": [
              "(1, 78, 22.333333333333332)"
            ]
          },
          "metadata": {},
          "execution_count": 89
        }
      ]
    },
    {
      "cell_type": "code",
      "source": [
        "# Example 37: finding max, min, average on 2d array column wise\n",
        "array_2d = np.array([[1, 2, 3, 5, 10, 15, 20], [4, 5, 10, 30, 50, 21, 40], [5, 8, 12, 70, 51, 29, 78]])\n",
        "\n",
        "array_2d.min(axis=1), array_2d.max(axis=1), array_2d.mean(axis=1)"
      ],
      "metadata": {
        "colab": {
          "base_uri": "https://localhost:8080/"
        },
        "id": "XjaJzBbUlqXZ",
        "outputId": "f0ac377c-e531-487f-fdc8-c50891b35dd4"
      },
      "execution_count": 90,
      "outputs": [
        {
          "output_type": "execute_result",
          "data": {
            "text/plain": [
              "(array([1, 4, 5]),\n",
              " array([20, 50, 78]),\n",
              " array([ 8.        , 22.85714286, 36.14285714]))"
            ]
          },
          "metadata": {},
          "execution_count": 90
        }
      ]
    },
    {
      "cell_type": "code",
      "source": [
        "# Example 38: flatten you data\n",
        "array_2d = np.array([[1, 2, 3, 5, 10, 15, 20], [4, 5, 10, 30, 50, 21, 40], [5, 8, 12, 70, 51, 29, 78]])\n",
        "array_2d.flatten()"
      ],
      "metadata": {
        "colab": {
          "base_uri": "https://localhost:8080/"
        },
        "id": "NQnW-de8lzgO",
        "outputId": "254b93b3-f390-49af-afd0-3abf3180342f"
      },
      "execution_count": 91,
      "outputs": [
        {
          "output_type": "execute_result",
          "data": {
            "text/plain": [
              "array([ 1,  2,  3,  5, 10, 15, 20,  4,  5, 10, 30, 50, 21, 40,  5,  8, 12,\n",
              "       70, 51, 29, 78])"
            ]
          },
          "metadata": {},
          "execution_count": 91
        }
      ]
    },
    {
      "cell_type": "code",
      "source": [
        "# Example 39: save your array\n",
        "array_2d = np.array([[1, 2, 3, 5, 10, 15, 20], [4, 5, 10, 30, 50, 21, 40], [5, 8, 12, 70, 51, 29, 78]])\n",
        "np.save('array_2d.npy', array_2d)"
      ],
      "metadata": {
        "id": "NpEGv9NhmQc8"
      },
      "execution_count": 93,
      "outputs": []
    },
    {
      "cell_type": "code",
      "source": [
        "# Example 40: save your big array (efficient and fast)\n",
        "array_2d = np.linspace(0,1e5, 100000)\n",
        "np.save('array_2d.npy', array_2d)"
      ],
      "metadata": {
        "id": "BB8jTm0imw9E"
      },
      "execution_count": 2,
      "outputs": []
    },
    {
      "cell_type": "markdown",
      "metadata": {
        "id": "GZO8ZhRA9PH0"
      },
      "source": [
        "## SciPy\n",
        "SciPy is an open-source library used for scientific and technical computing. It builds on NumPy and provides additional functionality.\n",
        "\n",
        "### Features:\n",
        "- Optimization\n",
        "- Integration\n",
        "- Interpolation\n",
        "\n",
        "### Examples:"
      ]
    },
    {
      "cell_type": "code",
      "source": [
        "# An easy way to introduce a funcion\n",
        "equation = lambda x: (x-2)**2\n",
        "\n",
        "def equation_second(x):\n",
        "\n",
        "    return (x-2)**2"
      ],
      "metadata": {
        "id": "dXv4GKhdn9Uk"
      },
      "execution_count": 6,
      "outputs": []
    },
    {
      "cell_type": "code",
      "execution_count": 9,
      "metadata": {
        "id": "F2YGAhKK9PH0",
        "colab": {
          "base_uri": "https://localhost:8080/"
        },
        "outputId": "88b9133d-dc2e-471b-c2a2-64568fb921e0"
      },
      "outputs": [
        {
          "output_type": "execute_result",
          "data": {
            "text/plain": [
              "  message: CONVERGENCE: NORM_OF_PROJECTED_GRADIENT_<=_PGTOL\n",
              "  success: True\n",
              "   status: 0\n",
              "      fun: 1.1082019140377291e-18\n",
              "        x: [ 2.000e+00]\n",
              "      nit: 2\n",
              "      jac: [ 1.211e-08]\n",
              "     nfev: 6\n",
              "     njev: 3\n",
              " hess_inv: <1x1 LbfgsInvHessProduct with dtype=float64>"
            ]
          },
          "metadata": {},
          "execution_count": 9
        }
      ],
      "source": [
        "from scipy import optimize\n",
        "\n",
        "# Example 1: Minimize a simple function\n",
        "result = optimize.minimize(equation_second, 0,method ='L-BFGS-B')\n",
        "result"
      ]
    },
    {
      "cell_type": "code",
      "source": [
        "from scipy import optimize\n",
        "\n",
        "# Example 2: Minimize a simple function\n",
        "result = optimize.minimize(equation_second, 0,method ='Nelder-Mead')\n",
        "result"
      ],
      "metadata": {
        "colab": {
          "base_uri": "https://localhost:8080/"
        },
        "id": "29WDDjBGpqCt",
        "outputId": "cc695411-72b6-498e-bcfc-098b206ccd66"
      },
      "execution_count": 10,
      "outputs": [
        {
          "output_type": "execute_result",
          "data": {
            "text/plain": [
              "       message: Optimization terminated successfully.\n",
              "       success: True\n",
              "        status: 0\n",
              "           fun: 4.930380657631324e-30\n",
              "             x: [ 2.000e+00]\n",
              "           nit: 27\n",
              "          nfev: 54\n",
              " final_simplex: (array([[ 2.000e+00],\n",
              "                       [ 2.000e+00]]), array([ 4.930e-30,  3.906e-09]))"
            ]
          },
          "metadata": {},
          "execution_count": 10
        }
      ]
    },
    {
      "cell_type": "code",
      "execution_count": 11,
      "metadata": {
        "id": "cd0K3sbX9PH0",
        "colab": {
          "base_uri": "https://localhost:8080/"
        },
        "outputId": "f77068cc-ddeb-4eda-c58a-1aa7a271068b"
      },
      "outputs": [
        {
          "output_type": "execute_result",
          "data": {
            "text/plain": [
              "array([2., 3.])"
            ]
          },
          "metadata": {},
          "execution_count": 11
        }
      ],
      "source": [
        "# Example 3: Solve a linear equation\n",
        "from scipy.linalg import solve\n",
        "# A = A[0,0]*x+A[0,1]*y this is the equation\n",
        "# A = {3*x+y=9, x+2*y=8}\n",
        "A = np.array([[3, 1], [1, 2]])\n",
        "b = np.array([9, 8])\n",
        "solution = solve(A, b)\n",
        "solution"
      ]
    },
    {
      "cell_type": "code",
      "source": [
        "# Example 4: Solve a linear equation\n",
        "from scipy.linalg import solve\n",
        "# A = A[0,0]*x+A[0,1]*y this is the equation\n",
        "# A = {10*x+5*y=1, 8*x+9*y=25}\n",
        "A = np.array([[10, 5], [8, 9]])\n",
        "b = np.array([1, 25])\n",
        "solution = solve(A, b)\n",
        "solution"
      ],
      "metadata": {
        "colab": {
          "base_uri": "https://localhost:8080/"
        },
        "id": "vPQ52cZrrpm3",
        "outputId": "93bdabf4-6eb0-4e3c-cb58-3be4a1fd0805"
      },
      "execution_count": 12,
      "outputs": [
        {
          "output_type": "execute_result",
          "data": {
            "text/plain": [
              "array([-2.32,  4.84])"
            ]
          },
          "metadata": {},
          "execution_count": 12
        }
      ]
    },
    {
      "cell_type": "code",
      "execution_count": 13,
      "metadata": {
        "id": "x-vwEgrc9PH0",
        "colab": {
          "base_uri": "https://localhost:8080/"
        },
        "outputId": "aaf6e5ab-9692-4614-ee1e-8a006ca4873d"
      },
      "outputs": [
        {
          "output_type": "execute_result",
          "data": {
            "text/plain": [
              "0.33333333333333337"
            ]
          },
          "metadata": {},
          "execution_count": 13
        }
      ],
      "source": [
        "# Example 5: Perform integration\n",
        "from scipy.integrate import quad\n",
        "integral_result, _ = quad(lambda x: x**2, 0, 1)\n",
        "integral_result"
      ]
    },
    {
      "cell_type": "code",
      "source": [
        "# Example 6: Perform integration of two-d equation\n",
        "from scipy.integrate import  dblquad\n",
        "f = lambda y, x: x*y**2\n",
        "integral_result, _ = dblquad(f, 0, 1, 0, 5)\n",
        "integral_result"
      ],
      "metadata": {
        "colab": {
          "base_uri": "https://localhost:8080/"
        },
        "id": "dUvs4VtntKOB",
        "outputId": "7e7e3a3f-7b26-4d04-95c9-17e5e04b7af5"
      },
      "execution_count": 15,
      "outputs": [
        {
          "output_type": "execute_result",
          "data": {
            "text/plain": [
              "20.833333333333336"
            ]
          },
          "metadata": {},
          "execution_count": 15
        }
      ]
    },
    {
      "cell_type": "code",
      "execution_count": 17,
      "metadata": {
        "id": "sSdh-0DI9PH0",
        "colab": {
          "base_uri": "https://localhost:8080/"
        },
        "outputId": "0736dd27-d4bd-485e-d86d-9e479904e7f6"
      },
      "outputs": [
        {
          "output_type": "execute_result",
          "data": {
            "text/plain": [
              "array(2.5)"
            ]
          },
          "metadata": {},
          "execution_count": 17
        }
      ],
      "source": [
        "# Example 7: Interpolate data with linear\n",
        "from scipy.interpolate import interp1d\n",
        "x = np.array([0, 1, 2, 3])\n",
        "y = np.array([0, 1, 4, 9])\n",
        "f = interp1d(x, y, kind='linear')\n",
        "interpolated_value = f(1.5)\n",
        "interpolated_value"
      ]
    },
    {
      "cell_type": "code",
      "source": [
        "# Example 8: Interpolate data with quadratic\n",
        "from scipy.interpolate import interp1d\n",
        "x = np.array([0, 1, 2, 3])\n",
        "y = np.array([0, 1, 4, 9])\n",
        "f = interp1d(x, y, kind='quadratic')\n",
        "interpolated_value = f(1.5)\n",
        "interpolated_value"
      ],
      "metadata": {
        "colab": {
          "base_uri": "https://localhost:8080/"
        },
        "id": "IunE_AtWxLYU",
        "outputId": "cf3ff453-a747-480f-9b7c-dd4f593695c4"
      },
      "execution_count": 18,
      "outputs": [
        {
          "output_type": "execute_result",
          "data": {
            "text/plain": [
              "array(2.25)"
            ]
          },
          "metadata": {},
          "execution_count": 18
        }
      ]
    },
    {
      "cell_type": "code",
      "source": [
        "# Example 8: Interpolate data with cubic\n",
        "from scipy.interpolate import interp1d\n",
        "x = np.array([0, 1, 2, 3])\n",
        "y = np.array([0, 1, 4, 9])\n",
        "f = interp1d(x, y, kind='cubic')\n",
        "interpolated_value = f(1.5)\n",
        "interpolated_value"
      ],
      "metadata": {
        "colab": {
          "base_uri": "https://localhost:8080/"
        },
        "id": "MRkli2wnxnMR",
        "outputId": "4888b250-3d0a-43c5-ff1d-7b84a9f1c8ef"
      },
      "execution_count": 19,
      "outputs": [
        {
          "output_type": "execute_result",
          "data": {
            "text/plain": [
              "array(2.25)"
            ]
          },
          "metadata": {},
          "execution_count": 19
        }
      ]
    },
    {
      "cell_type": "code",
      "source": [
        "# Example 9: Interpolate data with nearest\n",
        "from scipy.interpolate import interp1d\n",
        "x = np.array([0, 1, 2, 3])\n",
        "y = np.array([0, 1, 4, 9])\n",
        "f = interp1d(x, y, kind='nearest')\n",
        "interpolated_value = f(1.5)\n",
        "interpolated_value"
      ],
      "metadata": {
        "colab": {
          "base_uri": "https://localhost:8080/"
        },
        "id": "9_RooQr2yDg6",
        "outputId": "6b7c26d0-14e2-464e-a1d1-2aead8192710"
      },
      "execution_count": 20,
      "outputs": [
        {
          "output_type": "execute_result",
          "data": {
            "text/plain": [
              "array(1.)"
            ]
          },
          "metadata": {},
          "execution_count": 20
        }
      ]
    },
    {
      "cell_type": "code",
      "source": [
        "# Example 10: Interpolate data with nearest\n",
        "from scipy.interpolate import interp2d\n",
        "x = np.array([0, 1, 2, 3])\n",
        "y = np.array([0, 1, 4, 9])\n",
        "z = np.array([0, 5, 6, 12])\n",
        "f = interp2d(x, y, z, kind='linear')\n",
        "interpolated_value = f(1.5,2)\n",
        "interpolated_value"
      ],
      "metadata": {
        "colab": {
          "base_uri": "https://localhost:8080/"
        },
        "id": "irCIr0rXyTzB",
        "outputId": "a214665c-1c1a-4ec1-eb3d-fd294bdb8167"
      },
      "execution_count": 22,
      "outputs": [
        {
          "output_type": "stream",
          "name": "stderr",
          "text": [
            "<ipython-input-22-ebce12617a0a>:6: DeprecationWarning: `interp2d` is deprecated in SciPy 1.10 and will be removed in SciPy 1.14.0.\n",
            "\n",
            "For legacy code, nearly bug-for-bug compatible replacements are\n",
            "`RectBivariateSpline` on regular grids, and `bisplrep`/`bisplev` for\n",
            "scattered 2D data.\n",
            "\n",
            "In new code, for regular grids use `RegularGridInterpolator` instead.\n",
            "For scattered data, prefer `LinearNDInterpolator` or\n",
            "`CloughTocher2DInterpolator`.\n",
            "\n",
            "For more details see\n",
            "`https://scipy.github.io/devdocs/notebooks/interp_transition_guide.html`\n",
            "\n",
            "  f = interp2d(x, y, z, kind='linear')\n",
            "<ipython-input-22-ebce12617a0a>:7: DeprecationWarning: `interp2d` is deprecated in SciPy 1.10 and will be removed in SciPy 1.14.0.\n",
            "\n",
            "For legacy code, nearly bug-for-bug compatible replacements are\n",
            "`RectBivariateSpline` on regular grids, and `bisplrep`/`bisplev` for\n",
            "scattered 2D data.\n",
            "\n",
            "In new code, for regular grids use `RegularGridInterpolator` instead.\n",
            "For scattered data, prefer `LinearNDInterpolator` or\n",
            "`CloughTocher2DInterpolator`.\n",
            "\n",
            "For more details see\n",
            "`https://scipy.github.io/devdocs/notebooks/interp_transition_guide.html`\n",
            "\n",
            "  interpolated_value = f(1.5,2)\n"
          ]
        },
        {
          "output_type": "execute_result",
          "data": {
            "text/plain": [
              "array([6.5])"
            ]
          },
          "metadata": {},
          "execution_count": 22
        }
      ]
    },
    {
      "cell_type": "code",
      "source": [],
      "metadata": {
        "id": "PiaNXcVjzBfK"
      },
      "execution_count": null,
      "outputs": []
    },
    {
      "cell_type": "code",
      "execution_count": null,
      "metadata": {
        "id": "ha-xyGnN9PH0"
      },
      "outputs": [],
      "source": [
        "# Example 5: Generate a Gaussian distribution\n",
        "from scipy.stats import norm\n",
        "data = norm.rvs(size=1000)\n",
        "data"
      ]
    },
    {
      "cell_type": "markdown",
      "metadata": {
        "id": "re92rypv9PH1"
      },
      "source": [
        "## Matplotlib\n",
        "Matplotlib is a plotting library for the Python programming language and its numerical mathematics extension, NumPy. It provides an object-oriented API for embedding plots into applications.\n",
        "\n",
        "### Features:\n",
        "- 2D plotting\n",
        "- Interactive plots\n",
        "- Customizable visualizations\n",
        "\n",
        "### Examples:"
      ]
    },
    {
      "cell_type": "code",
      "execution_count": null,
      "metadata": {
        "id": "sgRPOh4y9PH1"
      },
      "outputs": [],
      "source": [
        "import matplotlib.pyplot as plt\n",
        "\n",
        "# Example 1: Basic line plot\n",
        "plt.plot([1, 2, 3, 4], [1, 4, 9, 16])\n",
        "plt.title('Basic Line Plot')\n",
        "plt.xlabel('X-axis')\n",
        "plt.ylabel('Y-axis')\n",
        "plt.show()"
      ]
    },
    {
      "cell_type": "code",
      "execution_count": null,
      "metadata": {
        "id": "eSgQNQjk9PH1"
      },
      "outputs": [],
      "source": [
        "# Example 2: Scatter plot\n",
        "plt.scatter([1, 2, 3, 4], [1, 4, 9, 16])\n",
        "plt.title('Scatter Plot')\n",
        "plt.xlabel('X-axis')\n",
        "plt.ylabel('Y-axis')\n",
        "plt.show()"
      ]
    },
    {
      "cell_type": "code",
      "execution_count": null,
      "metadata": {
        "id": "oUm6_uxZ9PH1"
      },
      "outputs": [],
      "source": [
        "# Example 3: Bar chart\n",
        "plt.bar(['A', 'B', 'C', 'D'], [3, 7, 5, 6])\n",
        "plt.title('Bar Chart')\n",
        "plt.xlabel('Categories')\n",
        "plt.ylabel('Values')\n",
        "plt.show()"
      ]
    },
    {
      "cell_type": "code",
      "execution_count": null,
      "metadata": {
        "id": "G5GeQg3x9PH2"
      },
      "outputs": [],
      "source": [
        "# Example 4: Histogram\n",
        "data = np.random.randn(1000)\n",
        "plt.hist(data, bins=30)\n",
        "plt.title('Histogram')\n",
        "plt.xlabel('Value')\n",
        "plt.ylabel('Frequency')\n",
        "plt.show()"
      ]
    },
    {
      "cell_type": "code",
      "execution_count": null,
      "metadata": {
        "id": "f5-_uUWY9PH2"
      },
      "outputs": [],
      "source": [
        "# Example 5: Pie chart\n",
        "sizes = [15, 30, 45, 10]\n",
        "plt.pie(sizes, labels=['A', 'B', 'C', 'D'], autopct='%1.1f%%')\n",
        "plt.title('Pie Chart')\n",
        "plt.show()"
      ]
    },
    {
      "cell_type": "markdown",
      "metadata": {
        "id": "AeHS-84m9PH2"
      },
      "source": [
        "## Pandas\n",
        "Pandas is a powerful data manipulation and analysis library for Python. It provides data structures like Series and DataFrames to handle and analyze data efficiently.\n",
        "\n",
        "### Features:\n",
        "- Data manipulation with DataFrames\n",
        "- Flexible data handling\n",
        "- Time series support\n",
        "\n",
        "### Examples:"
      ]
    },
    {
      "cell_type": "code",
      "execution_count": null,
      "metadata": {
        "id": "1hE6COOd9PH3"
      },
      "outputs": [],
      "source": [
        "import pandas as pd\n",
        "\n",
        "# Example 1: Create a DataFrame\n",
        "data = {'Column1': [1, 2, 3], 'Column2': [4, 5, 6]}\n",
        "df = pd.DataFrame(data)\n",
        "df"
      ]
    },
    {
      "cell_type": "code",
      "execution_count": null,
      "metadata": {
        "id": "qUW7lG9b9PH3"
      },
      "outputs": [],
      "source": [
        "# Example 2: Read CSV file\n",
        "# df_from_csv = pd.read_csv('file.csv')  # Uncomment to read a CSV file\n",
        "# df_from_csv"
      ]
    },
    {
      "cell_type": "code",
      "execution_count": null,
      "metadata": {
        "id": "akkcRzSy9PH3"
      },
      "outputs": [],
      "source": [
        "# Example 3: DataFrame operations\n",
        "df['Column3'] = df['Column1'] + df['Column2']\n",
        "df"
      ]
    },
    {
      "cell_type": "code",
      "execution_count": null,
      "metadata": {
        "id": "taJaW3Kp9PH3"
      },
      "outputs": [],
      "source": [
        "# Example 4: Group by operation\n",
        "grouped = df.groupby('Column1').sum()\n",
        "grouped"
      ]
    },
    {
      "cell_type": "code",
      "execution_count": null,
      "metadata": {
        "id": "tY7nQa6K9PH4"
      },
      "outputs": [],
      "source": [
        "# Example 5: Handling missing values\n",
        "df_with_nan = df.copy()\n",
        "df_with_nan.loc[1, 'Column2'] = None\n",
        "df_filled = df_with_nan.fillna(0)\n",
        "df_filled"
      ]
    }
  ],
  "metadata": {
    "kernelspec": {
      "display_name": "Python 3",
      "language": "python",
      "name": "python3"
    },
    "language_info": {
      "codemirror_mode": {
        "name": "ipython",
        "version": 3
      },
      "file_extension": ".py",
      "mimetype": "text/x-python",
      "name": "python",
      "nbconvert_exporter": "python",
      "pygments_lexer": "ipython3",
      "version": "3.8.5"
    },
    "colab": {
      "provenance": [],
      "include_colab_link": true
    }
  },
  "nbformat": 4,
  "nbformat_minor": 0
}