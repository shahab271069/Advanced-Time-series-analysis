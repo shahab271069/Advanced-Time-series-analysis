{
  "cells": [
    {
      "cell_type": "markdown",
      "metadata": {
        "id": "view-in-github",
        "colab_type": "text"
      },
      "source": [
        "<a href=\"https://colab.research.google.com/github/shahab271069/Advanced-Time-series-analysis/blob/main/Python_third_session.ipynb\" target=\"_parent\"><img src=\"https://colab.research.google.com/assets/colab-badge.svg\" alt=\"Open In Colab\"/></a>"
      ]
    },
    {
      "cell_type": "markdown",
      "metadata": {
        "id": "7yQ3bvn99PHo"
      },
      "source": [
        "# Introduction to Python Packages\n",
        "In this notebook, we will explore several essential Python packages used for various tasks, including file handling, numerical computations, data manipulation, and visualization.\n",
        "\n",
        "## Table of Contents\n",
        "- [OS](#os)\n",
        "- [Glob](#glob)\n",
        "- [NumPy](#numpy)\n",
        "- [SciPy](#scipy)\n",
        "- [Matplotlib](#matplotlib)\n",
        "- [Pandas](#pandas)\n"
      ]
    },
    {
      "cell_type": "markdown",
      "metadata": {
        "id": "66xhvDas9PHr"
      },
      "source": [
        "## OS\n",
        "The `os` module provides a way of using operating system-dependent functionality like reading or writing to the file system. It allows you to interact with the file system in a platform-independent manner.\n",
        "\n",
        "### Features:\n",
        "- File and directory manipulation\n",
        "- Environment variables\n",
        "- Process management\n",
        "\n",
        "### Examples:"
      ]
    },
    {
      "cell_type": "code",
      "execution_count": null,
      "metadata": {
        "id": "xYrH6lpV9PHt",
        "colab": {
          "base_uri": "https://localhost:8080/",
          "height": 36
        },
        "outputId": "ea58f898-b96e-4d43-b115-b30ca1cf6d61"
      },
      "outputs": [
        {
          "output_type": "execute_result",
          "data": {
            "text/plain": [
              "'/content'"
            ],
            "application/vnd.google.colaboratory.intrinsic+json": {
              "type": "string"
            }
          },
          "metadata": {},
          "execution_count": 1
        }
      ],
      "source": [
        "import os\n",
        "\n",
        "# Example 1: Get current working directory\n",
        "current_directory = os.getcwd()\n",
        "current_directory"
      ]
    },
    {
      "cell_type": "code",
      "execution_count": null,
      "metadata": {
        "id": "8hN95BmE9PHu",
        "colab": {
          "base_uri": "https://localhost:8080/"
        },
        "outputId": "0a43dd5b-48e2-4d14-bfb6-eff165755d28"
      },
      "outputs": [
        {
          "output_type": "execute_result",
          "data": {
            "text/plain": [
              "['.config', 'sample_data']"
            ]
          },
          "metadata": {},
          "execution_count": 2
        }
      ],
      "source": [
        "# Example 2: List files in the current directory\n",
        "files = os.listdir(current_directory)\n",
        "files"
      ]
    },
    {
      "cell_type": "code",
      "execution_count": null,
      "metadata": {
        "id": "xN4Z5pYw9PHv",
        "colab": {
          "base_uri": "https://localhost:8080/",
          "height": 36
        },
        "outputId": "60488ddb-8827-48ac-a02e-25492da502be"
      },
      "outputs": [
        {
          "output_type": "execute_result",
          "data": {
            "text/plain": [
              "'/content/new_folder'"
            ],
            "application/vnd.google.colaboratory.intrinsic+json": {
              "type": "string"
            }
          },
          "metadata": {},
          "execution_count": 3
        }
      ],
      "source": [
        "# Example 3: Create a new directory\n",
        "new_directory = os.path.join(current_directory, 'new_folder')\n",
        "os.makedirs(new_directory, exist_ok=True)\n",
        "new_directory"
      ]
    },
    {
      "cell_type": "code",
      "source": [
        "# Example 3: Create a new directory\n",
        "new_directory = os.path.join(current_directory, 'new_folder')\n",
        "os.mkdir(new_directory)\n",
        "new_directory"
      ],
      "metadata": {
        "colab": {
          "base_uri": "https://localhost:8080/",
          "height": 193
        },
        "id": "yvQg0p9yOXwb",
        "outputId": "9e8a57de-72fa-4c25-8d6f-e639139c5ffb"
      },
      "execution_count": null,
      "outputs": [
        {
          "output_type": "error",
          "ename": "FileExistsError",
          "evalue": "[Errno 17] File exists: '/content/new_folder'",
          "traceback": [
            "\u001b[0;31m---------------------------------------------------------------------------\u001b[0m",
            "\u001b[0;31mFileExistsError\u001b[0m                           Traceback (most recent call last)",
            "\u001b[0;32m<ipython-input-4-8f765312d9cf>\u001b[0m in \u001b[0;36m<cell line: 3>\u001b[0;34m()\u001b[0m\n\u001b[1;32m      1\u001b[0m \u001b[0;31m# Example 3: Create a new directory\u001b[0m\u001b[0;34m\u001b[0m\u001b[0;34m\u001b[0m\u001b[0m\n\u001b[1;32m      2\u001b[0m \u001b[0mnew_directory\u001b[0m \u001b[0;34m=\u001b[0m \u001b[0mos\u001b[0m\u001b[0;34m.\u001b[0m\u001b[0mpath\u001b[0m\u001b[0;34m.\u001b[0m\u001b[0mjoin\u001b[0m\u001b[0;34m(\u001b[0m\u001b[0mcurrent_directory\u001b[0m\u001b[0;34m,\u001b[0m \u001b[0;34m'new_folder'\u001b[0m\u001b[0;34m)\u001b[0m\u001b[0;34m\u001b[0m\u001b[0;34m\u001b[0m\u001b[0m\n\u001b[0;32m----> 3\u001b[0;31m \u001b[0mos\u001b[0m\u001b[0;34m.\u001b[0m\u001b[0mmkdir\u001b[0m\u001b[0;34m(\u001b[0m\u001b[0mnew_directory\u001b[0m\u001b[0;34m)\u001b[0m\u001b[0;34m\u001b[0m\u001b[0;34m\u001b[0m\u001b[0m\n\u001b[0m\u001b[1;32m      4\u001b[0m \u001b[0mnew_directory\u001b[0m\u001b[0;34m\u001b[0m\u001b[0;34m\u001b[0m\u001b[0m\n",
            "\u001b[0;31mFileExistsError\u001b[0m: [Errno 17] File exists: '/content/new_folder'"
          ]
        }
      ]
    },
    {
      "cell_type": "code",
      "execution_count": null,
      "metadata": {
        "id": "EQuQw1qv9PHw"
      },
      "outputs": [],
      "source": [
        "# Example 4: Remove a directory\n",
        "os.rmdir(new_directory)  # Ensure the directory is empty before removing it\n"
      ]
    },
    {
      "cell_type": "code",
      "execution_count": null,
      "metadata": {
        "id": "4hX-Q6KQ9PHw",
        "colab": {
          "base_uri": "https://localhost:8080/"
        },
        "outputId": "61e6881d-47dc-477b-9a04-49e2ecabd333"
      },
      "outputs": [
        {
          "output_type": "execute_result",
          "data": {
            "text/plain": [
              "environ{'SHELL': '/bin/bash',\n",
              "        'NV_LIBCUBLAS_VERSION': '12.2.5.6-1',\n",
              "        'NVIDIA_VISIBLE_DEVICES': 'all',\n",
              "        'COLAB_JUPYTER_TRANSPORT': 'ipc',\n",
              "        'NV_NVML_DEV_VERSION': '12.2.140-1',\n",
              "        'NV_CUDNN_PACKAGE_NAME': 'libcudnn8',\n",
              "        'CGROUP_MEMORY_EVENTS': '/sys/fs/cgroup/memory.events /var/colab/cgroup/jupyter-children/memory.events',\n",
              "        'NV_LIBNCCL_DEV_PACKAGE': 'libnccl-dev=2.19.3-1+cuda12.2',\n",
              "        'NV_LIBNCCL_DEV_PACKAGE_VERSION': '2.19.3-1',\n",
              "        'VM_GCE_METADATA_HOST': '169.254.169.253',\n",
              "        'HOSTNAME': 'ad8ca39acfa3',\n",
              "        'LANGUAGE': 'en_US',\n",
              "        'TBE_RUNTIME_ADDR': '172.28.0.1:8011',\n",
              "        'COLAB_TPU_1VM': '',\n",
              "        'GCE_METADATA_TIMEOUT': '3',\n",
              "        'NVIDIA_REQUIRE_CUDA': 'cuda>=12.2 brand=tesla,driver>=470,driver<471 brand=unknown,driver>=470,driver<471 brand=nvidia,driver>=470,driver<471 brand=nvidiartx,driver>=470,driver<471 brand=geforce,driver>=470,driver<471 brand=geforcertx,driver>=470,driver<471 brand=quadro,driver>=470,driver<471 brand=quadrortx,driver>=470,driver<471 brand=titan,driver>=470,driver<471 brand=titanrtx,driver>=470,driver<471 brand=tesla,driver>=525,driver<526 brand=unknown,driver>=525,driver<526 brand=nvidia,driver>=525,driver<526 brand=nvidiartx,driver>=525,driver<526 brand=geforce,driver>=525,driver<526 brand=geforcertx,driver>=525,driver<526 brand=quadro,driver>=525,driver<526 brand=quadrortx,driver>=525,driver<526 brand=titan,driver>=525,driver<526 brand=titanrtx,driver>=525,driver<526',\n",
              "        'NV_LIBCUBLAS_DEV_PACKAGE': 'libcublas-dev-12-2=12.2.5.6-1',\n",
              "        'NV_NVTX_VERSION': '12.2.140-1',\n",
              "        'COLAB_JUPYTER_IP': '172.28.0.12',\n",
              "        'NV_CUDA_CUDART_DEV_VERSION': '12.2.140-1',\n",
              "        'NV_LIBCUSPARSE_VERSION': '12.1.2.141-1',\n",
              "        'COLAB_LANGUAGE_SERVER_PROXY_ROOT_URL': 'http://172.28.0.1:8013/',\n",
              "        'NV_LIBNPP_VERSION': '12.2.1.4-1',\n",
              "        'NCCL_VERSION': '2.19.3-1',\n",
              "        'KMP_LISTEN_PORT': '6000',\n",
              "        'TF_FORCE_GPU_ALLOW_GROWTH': 'true',\n",
              "        'ENV': '/root/.bashrc',\n",
              "        'PWD': '/',\n",
              "        'TBE_EPHEM_CREDS_ADDR': '172.28.0.1:8009',\n",
              "        'COLAB_LANGUAGE_SERVER_PROXY_REQUEST_TIMEOUT': '30s',\n",
              "        'TBE_CREDS_ADDR': '172.28.0.1:8008',\n",
              "        'NV_CUDNN_PACKAGE': 'libcudnn8=8.9.6.50-1+cuda12.2',\n",
              "        'NVIDIA_DRIVER_CAPABILITIES': 'compute,utility',\n",
              "        'COLAB_JUPYTER_TOKEN': '',\n",
              "        'LAST_FORCED_REBUILD': '20241028',\n",
              "        'NV_NVPROF_DEV_PACKAGE': 'cuda-nvprof-12-2=12.2.142-1',\n",
              "        'NV_LIBNPP_PACKAGE': 'libnpp-12-2=12.2.1.4-1',\n",
              "        'NV_LIBNCCL_DEV_PACKAGE_NAME': 'libnccl-dev',\n",
              "        'TCLLIBPATH': '/usr/share/tcltk/tcllib1.20',\n",
              "        'NV_LIBCUBLAS_DEV_VERSION': '12.2.5.6-1',\n",
              "        'NVIDIA_PRODUCT_NAME': 'CUDA',\n",
              "        'COLAB_KERNEL_MANAGER_PROXY_HOST': '172.28.0.12',\n",
              "        'NV_LIBCUBLAS_DEV_PACKAGE_NAME': 'libcublas-dev-12-2',\n",
              "        'NV_CUDA_CUDART_VERSION': '12.2.140-1',\n",
              "        'COLAB_WARMUP_DEFAULTS': '1',\n",
              "        'HOME': '/root',\n",
              "        'LANG': 'en_US.UTF-8',\n",
              "        'COLUMNS': '100',\n",
              "        'CUDA_VERSION': '12.2.2',\n",
              "        'CLOUDSDK_CONFIG': '/content/.config',\n",
              "        'NV_LIBCUBLAS_PACKAGE': 'libcublas-12-2=12.2.5.6-1',\n",
              "        'NV_CUDA_NSIGHT_COMPUTE_DEV_PACKAGE': 'cuda-nsight-compute-12-2=12.2.2-1',\n",
              "        'COLAB_RELEASE_TAG': 'release-colab_20241031-060132_RC00',\n",
              "        'KMP_TARGET_PORT': '9000',\n",
              "        'KMP_EXTRA_ARGS': '--logtostderr --listen_host=172.28.0.12 --target_host=172.28.0.12 --tunnel_background_save_url=https://colab.research.google.com/tun/m/cc48301118ce562b961b3c22d803539adc1e0c19/m-s-3iavhql4dunjz --tunnel_background_save_delay=10s --tunnel_periodic_background_save_frequency=30m0s --enable_output_coalescing=true --output_coalescing_required=true',\n",
              "        'NV_LIBNPP_DEV_PACKAGE': 'libnpp-dev-12-2=12.2.1.4-1',\n",
              "        'COLAB_LANGUAGE_SERVER_PROXY_LSP_DIRS': '/datalab/web/pyright/typeshed-fallback/stdlib,/usr/local/lib/python3.10/dist-packages',\n",
              "        'NV_LIBCUBLAS_PACKAGE_NAME': 'libcublas-12-2',\n",
              "        'COLAB_KERNEL_MANAGER_PROXY_PORT': '6000',\n",
              "        'CLOUDSDK_PYTHON': 'python3',\n",
              "        'NV_LIBNPP_DEV_VERSION': '12.2.1.4-1',\n",
              "        'NO_GCE_CHECK': 'False',\n",
              "        'PYTHONPATH': '/env/python',\n",
              "        'NV_LIBCUSPARSE_DEV_VERSION': '12.1.2.141-1',\n",
              "        'LIBRARY_PATH': '/usr/local/cuda/lib64/stubs',\n",
              "        'NV_CUDNN_VERSION': '8.9.6.50',\n",
              "        'SHLVL': '0',\n",
              "        'NV_CUDA_LIB_VERSION': '12.2.2-1',\n",
              "        'COLAB_LANGUAGE_SERVER_PROXY': '/usr/colab/bin/language_service',\n",
              "        'NVARCH': 'x86_64',\n",
              "        'NV_CUDNN_PACKAGE_DEV': 'libcudnn8-dev=8.9.6.50-1+cuda12.2',\n",
              "        'NV_CUDA_COMPAT_PACKAGE': 'cuda-compat-12-2',\n",
              "        'NV_LIBNCCL_PACKAGE': 'libnccl2=2.19.3-1+cuda12.2',\n",
              "        'LD_LIBRARY_PATH': '/usr/local/nvidia/lib:/usr/local/nvidia/lib64',\n",
              "        'COLAB_GPU': '',\n",
              "        'NV_CUDA_NSIGHT_COMPUTE_VERSION': '12.2.2-1',\n",
              "        'GCS_READ_CACHE_BLOCK_SIZE_MB': '16',\n",
              "        'NV_NVPROF_VERSION': '12.2.142-1',\n",
              "        'LC_ALL': 'en_US.UTF-8',\n",
              "        'COLAB_FILE_HANDLER_ADDR': 'localhost:3453',\n",
              "        'PATH': '/opt/bin:/usr/local/nvidia/bin:/usr/local/cuda/bin:/usr/local/sbin:/usr/local/bin:/usr/sbin:/usr/bin:/sbin:/bin:/tools/node/bin:/tools/google-cloud-sdk/bin',\n",
              "        'NV_LIBNCCL_PACKAGE_NAME': 'libnccl2',\n",
              "        'COLAB_DEBUG_ADAPTER_MUX_PATH': '/usr/local/bin/dap_multiplexer',\n",
              "        'NV_LIBNCCL_PACKAGE_VERSION': '2.19.3-1',\n",
              "        'PYTHONWARNINGS': 'ignore:::pip._internal.cli.base_command',\n",
              "        'DEBIAN_FRONTEND': 'noninteractive',\n",
              "        'COLAB_BACKEND_VERSION': 'next',\n",
              "        'OLDPWD': '/',\n",
              "        'JPY_PARENT_PID': '91',\n",
              "        'TERM': 'xterm-color',\n",
              "        'CLICOLOR': '1',\n",
              "        'PAGER': 'cat',\n",
              "        'GIT_PAGER': 'cat',\n",
              "        'MPLBACKEND': 'module://ipykernel.pylab.backend_inline',\n",
              "        'ENABLE_DIRECTORYPREFETCHER': '1',\n",
              "        'USE_AUTH_EPHEM': '1',\n",
              "        'PYDEVD_USE_FRAME_EVAL': 'NO'}"
            ]
          },
          "metadata": {},
          "execution_count": 6
        }
      ],
      "source": [
        "# Example 5: Get environment variables\n",
        "env_vars = os.environ\n",
        "env_vars"
      ]
    },
    {
      "cell_type": "code",
      "source": [
        "# Example 3: Create a new directory\n",
        "new_directory = os.path.join(current_directory, 'new_folder')\n",
        "os.makedirs(new_directory, exist_ok=True)\n",
        "new_directory"
      ],
      "metadata": {
        "colab": {
          "base_uri": "https://localhost:8080/",
          "height": 36
        },
        "id": "rOoCwUy8PN4S",
        "outputId": "1f43210c-e378-4cfe-b6eb-0eb24de75f69"
      },
      "execution_count": null,
      "outputs": [
        {
          "output_type": "execute_result",
          "data": {
            "text/plain": [
              "'/content/new_folder'"
            ],
            "application/vnd.google.colaboratory.intrinsic+json": {
              "type": "string"
            }
          },
          "metadata": {},
          "execution_count": 7
        }
      ]
    },
    {
      "cell_type": "code",
      "source": [
        "# How change directories\n",
        "%cd new_folder"
      ],
      "metadata": {
        "colab": {
          "base_uri": "https://localhost:8080/"
        },
        "id": "zSmiyei8Pl3K",
        "outputId": "5f7d5f68-9ad7-4ef4-ac2c-9410ea85bedb"
      },
      "execution_count": null,
      "outputs": [
        {
          "output_type": "stream",
          "name": "stdout",
          "text": [
            "/content/new_folder\n"
          ]
        }
      ]
    },
    {
      "cell_type": "code",
      "source": [
        "# Example 1: Get current working directory\n",
        "current_directory = os.getcwd()\n",
        "current_directory"
      ],
      "metadata": {
        "colab": {
          "base_uri": "https://localhost:8080/",
          "height": 36
        },
        "id": "VzQYg3KdPrhZ",
        "outputId": "9fb0935e-d6e3-4323-cc36-421cba084462"
      },
      "execution_count": null,
      "outputs": [
        {
          "output_type": "execute_result",
          "data": {
            "text/plain": [
              "'/content/new_folder'"
            ],
            "application/vnd.google.colaboratory.intrinsic+json": {
              "type": "string"
            }
          },
          "metadata": {},
          "execution_count": 10
        }
      ]
    },
    {
      "cell_type": "code",
      "source": [
        "for i in range(10):\n",
        "    os.mkdir(f'dir{i}')"
      ],
      "metadata": {
        "id": "1Jsw8O3lQejs"
      },
      "execution_count": null,
      "outputs": []
    },
    {
      "cell_type": "markdown",
      "metadata": {
        "id": "39jb59Dz9PHx"
      },
      "source": [
        "## Glob\n",
        "The `glob` module finds all the pathnames matching a specified pattern according to the rules used by the Unix shell. It is useful for file searching.\n",
        "\n",
        "### Features:\n",
        "- Pattern matching for file names\n",
        "- Supports wildcards\n",
        "\n",
        "### Examples:"
      ]
    },
    {
      "cell_type": "code",
      "source": [
        "!git clone https://github.com/numpy/numpy"
      ],
      "metadata": {
        "colab": {
          "base_uri": "https://localhost:8080/"
        },
        "id": "d2pN2optRe4K",
        "outputId": "f5e265e4-e7dd-4d70-8d3f-34b1ed091554"
      },
      "execution_count": null,
      "outputs": [
        {
          "output_type": "stream",
          "name": "stdout",
          "text": [
            "Cloning into 'numpy'...\n",
            "remote: Enumerating objects: 282430, done.\u001b[K\n",
            "remote: Counting objects: 100% (1220/1220), done.\u001b[K\n",
            "remote: Compressing objects: 100% (599/599), done.\u001b[K\n",
            "remote: Total 282430 (delta 783), reused 955 (delta 614), pack-reused 281210 (from 1)\u001b[K\n",
            "Receiving objects: 100% (282430/282430), 144.91 MiB | 20.65 MiB/s, done.\n",
            "Resolving deltas: 100% (223073/223073), done.\n"
          ]
        }
      ]
    },
    {
      "cell_type": "code",
      "execution_count": null,
      "metadata": {
        "id": "GXbm1ATe9PHx",
        "colab": {
          "base_uri": "https://localhost:8080/"
        },
        "outputId": "d0e77b75-fa84-4be0-ada9-e058db7d1837"
      },
      "outputs": [
        {
          "output_type": "execute_result",
          "data": {
            "text/plain": [
              "['./numpy/pavement.py']"
            ]
          },
          "metadata": {},
          "execution_count": 15
        }
      ],
      "source": [
        "import glob\n",
        "\n",
        "# Example 1: Find all Python files\n",
        "py_files = glob.glob('./numpy/*.py')\n",
        "py_files"
      ]
    },
    {
      "cell_type": "code",
      "execution_count": null,
      "metadata": {
        "id": "RMjMvBaJ9PHx",
        "colab": {
          "base_uri": "https://localhost:8080/"
        },
        "outputId": "47e90f5a-05ce-436b-c1be-f0a82d234210"
      },
      "outputs": [
        {
          "output_type": "execute_result",
          "data": {
            "text/plain": [
              "[]"
            ]
          },
          "metadata": {},
          "execution_count": 16
        }
      ],
      "source": [
        "# Example 2: Find all text files in a directory\n",
        "txt_files = glob.glob('*.txt')\n",
        "txt_files"
      ]
    },
    {
      "cell_type": "code",
      "execution_count": null,
      "metadata": {
        "id": "0ZGDwDSG9PHy",
        "colab": {
          "base_uri": "https://localhost:8080/"
        },
        "outputId": "4eda9876-ebaa-4beb-c5f2-cb9c589374f5"
      },
      "outputs": [
        {
          "output_type": "execute_result",
          "data": {
            "text/plain": [
              "[]"
            ]
          },
          "metadata": {},
          "execution_count": 17
        }
      ],
      "source": [
        "# Example 3: Find files with a specific pattern\n",
        "pattern_files = glob.glob('data/*.csv')\n",
        "pattern_files"
      ]
    },
    {
      "cell_type": "code",
      "execution_count": null,
      "metadata": {
        "id": "qxRa3HRY9PHy",
        "colab": {
          "base_uri": "https://localhost:8080/"
        },
        "outputId": "ded0f4bc-a6f5-4dc5-a278-58392176bfa9"
      },
      "outputs": [
        {
          "output_type": "execute_result",
          "data": {
            "text/plain": [
              "['numpy/tools/swig/test/testMatrix.py']"
            ]
          },
          "metadata": {},
          "execution_count": 22
        }
      ],
      "source": [
        "# Example 4: Using recursive search\n",
        "all_py_files = glob.glob('**/*M*.py', recursive=True)\n",
        "all_py_files"
      ]
    },
    {
      "cell_type": "code",
      "execution_count": null,
      "metadata": {
        "id": "tUsHKyea9PHy",
        "colab": {
          "base_uri": "https://localhost:8080/"
        },
        "outputId": "9d69adc1-fb89-4b19-8622-0f3107c651b5"
      },
      "outputs": [
        {
          "output_type": "execute_result",
          "data": {
            "text/plain": [
              "[]"
            ]
          },
          "metadata": {},
          "execution_count": 23
        }
      ],
      "source": [
        "# Example 5: Find all JPEG images\n",
        "jpeg_files = glob.glob('*.jpeg')\n",
        "jpeg_files"
      ]
    },
    {
      "cell_type": "markdown",
      "metadata": {
        "id": "5nnO2Qon9PHy"
      },
      "source": [
        "## NumPy\n",
        "NumPy is the fundamental package for numerical computations in Python. It provides support for arrays, matrices, and many mathematical functions.\n",
        "\n",
        "### Features:\n",
        "- N-dimensional arrays\n",
        "- Mathematical functions\n",
        "- Linear algebra routines\n",
        "\n",
        "### Examples:"
      ]
    },
    {
      "cell_type": "code",
      "execution_count": null,
      "metadata": {
        "id": "3-jeAxti9PHz",
        "colab": {
          "base_uri": "https://localhost:8080/"
        },
        "outputId": "85835a9b-5959-41dd-cf74-7e744a7e5d33"
      },
      "outputs": [
        {
          "output_type": "execute_result",
          "data": {
            "text/plain": [
              "array([1, 2, 3, 4, 5])"
            ]
          },
          "metadata": {},
          "execution_count": 1
        }
      ],
      "source": [
        "import numpy as np\n",
        "\n",
        "# Example 1: Create a 1D array\n",
        "array_1d = np.array([1, 2, 3, 4, 5])\n",
        "array_1d"
      ]
    },
    {
      "cell_type": "code",
      "execution_count": null,
      "metadata": {
        "id": "fr9LGl9t9PHz",
        "colab": {
          "base_uri": "https://localhost:8080/"
        },
        "outputId": "301b8e94-5a3d-4b64-ba66-f3abc19eaac1"
      },
      "outputs": [
        {
          "output_type": "execute_result",
          "data": {
            "text/plain": [
              "array([[1, 2, 3],\n",
              "       [4, 5, 6]])"
            ]
          },
          "metadata": {},
          "execution_count": 25
        }
      ],
      "source": [
        "# Example 2: Create a 2D array\n",
        "array_2d = np.array([[1, 2, 3], [4, 5, 6]])\n",
        "array_2d"
      ]
    },
    {
      "cell_type": "code",
      "execution_count": null,
      "metadata": {
        "id": "VEAVgkyx9PHz",
        "colab": {
          "base_uri": "https://localhost:8080/"
        },
        "outputId": "c2885f58-8839-4ec7-d0ec-4d52e2e4833a"
      },
      "outputs": [
        {
          "output_type": "execute_result",
          "data": {
            "text/plain": [
              "3.0"
            ]
          },
          "metadata": {},
          "execution_count": 26
        }
      ],
      "source": [
        "# Example 3: Compute the mean of an array\n",
        "mean_value = np.mean(array_1d)\n",
        "mean_value"
      ]
    },
    {
      "cell_type": "code",
      "source": [
        "# Example 4: Compute the mean of an 2d-array\n",
        "mean_value = np.mean(array_2d)\n",
        "mean_value"
      ],
      "metadata": {
        "colab": {
          "base_uri": "https://localhost:8080/"
        },
        "id": "5P86jiS7UD4y",
        "outputId": "52e8b2fc-7f9c-4730-f98e-72b62c8dae94"
      },
      "execution_count": null,
      "outputs": [
        {
          "output_type": "execute_result",
          "data": {
            "text/plain": [
              "3.5"
            ]
          },
          "metadata": {},
          "execution_count": 27
        }
      ]
    },
    {
      "cell_type": "code",
      "source": [
        "# Example 5: Compute the mean of an 2d-array in each column\n",
        "mean_value = np.mean(array_2d, axis=1)\n",
        "mean_value"
      ],
      "metadata": {
        "colab": {
          "base_uri": "https://localhost:8080/"
        },
        "id": "kEA1RR2XUI6Q",
        "outputId": "61e21c9b-8a24-429b-af31-27dd16fa6c30"
      },
      "execution_count": null,
      "outputs": [
        {
          "output_type": "execute_result",
          "data": {
            "text/plain": [
              "array([2., 5.])"
            ]
          },
          "metadata": {},
          "execution_count": 28
        }
      ]
    },
    {
      "cell_type": "code",
      "source": [
        "# Example 6: Compute the mean of an 2d-array in each row\n",
        "mean_value = np.mean(array_2d, axis=0)\n",
        "mean_value"
      ],
      "metadata": {
        "colab": {
          "base_uri": "https://localhost:8080/"
        },
        "id": "l1aRvJmtUTya",
        "outputId": "31b554fd-ba9e-4ee5-e17c-f0c76600e663"
      },
      "execution_count": null,
      "outputs": [
        {
          "output_type": "execute_result",
          "data": {
            "text/plain": [
              "array([2.5, 3.5, 4.5])"
            ]
          },
          "metadata": {},
          "execution_count": 29
        }
      ]
    },
    {
      "cell_type": "code",
      "source": [
        "# Example 7: Compute the median of an 2d-array in each column\n",
        "median_value = np.median(array_2d, axis=1)\n",
        "median_value"
      ],
      "metadata": {
        "colab": {
          "base_uri": "https://localhost:8080/"
        },
        "id": "duvhPIg6Upax",
        "outputId": "7ca6528f-3b47-4a64-d7b9-b220fc3e98c3"
      },
      "execution_count": null,
      "outputs": [
        {
          "output_type": "execute_result",
          "data": {
            "text/plain": [
              "array([2., 5.])"
            ]
          },
          "metadata": {},
          "execution_count": 32
        }
      ]
    },
    {
      "cell_type": "code",
      "source": [
        "# Example 8: Compute the median of an 2d-array in each row\n",
        "median_value = np.median(array_2d, axis=0)\n",
        "median_value"
      ],
      "metadata": {
        "colab": {
          "base_uri": "https://localhost:8080/"
        },
        "id": "lScmSBgqUcDA",
        "outputId": "c281472e-77f0-46f4-ed74-61c2053adbf8"
      },
      "execution_count": null,
      "outputs": [
        {
          "output_type": "execute_result",
          "data": {
            "text/plain": [
              "array([2.5, 3.5, 4.5])"
            ]
          },
          "metadata": {},
          "execution_count": 31
        }
      ]
    },
    {
      "cell_type": "code",
      "source": [
        "# Example 10: Create a 2D array\n",
        "array_2d = np.array([[1, 2, 3, 5, 10, 15, 20], [4, 5, 6, 30, 50, 21, 40], [5, 8, 12, 70, 51, 29, 78]])\n",
        "array_2d"
      ],
      "metadata": {
        "colab": {
          "base_uri": "https://localhost:8080/"
        },
        "id": "XR3Lak8jU5pI",
        "outputId": "81037169-27bf-4d35-d4b6-c0700344d439"
      },
      "execution_count": null,
      "outputs": [
        {
          "output_type": "execute_result",
          "data": {
            "text/plain": [
              "array([[ 1,  2,  3,  5, 10, 15, 20],\n",
              "       [ 4,  5,  6, 30, 50, 21, 40],\n",
              "       [ 5,  8, 12, 70, 51, 29, 78]])"
            ]
          },
          "metadata": {},
          "execution_count": 34
        }
      ]
    },
    {
      "cell_type": "code",
      "source": [
        "# How to know what is the matrix or array shape (row, column, ...)\n",
        "array_2d.shape"
      ],
      "metadata": {
        "colab": {
          "base_uri": "https://localhost:8080/"
        },
        "id": "yreB_hQnVN1X",
        "outputId": "458520e3-1211-4d7a-f935-981dc8a2e32f"
      },
      "execution_count": null,
      "outputs": [
        {
          "output_type": "execute_result",
          "data": {
            "text/plain": [
              "(3, 7)"
            ]
          },
          "metadata": {},
          "execution_count": 36
        }
      ]
    },
    {
      "cell_type": "code",
      "source": [
        "# Example 11: Compute the mean and median of an 2d-array in each row\n",
        "mean_value = np.mean(array_2d, axis=0)\n",
        "median_value = np.median(array_2d, axis=0)\n",
        "mean_value, median_value"
      ],
      "metadata": {
        "colab": {
          "base_uri": "https://localhost:8080/"
        },
        "id": "6acOBguIVXhB",
        "outputId": "1235a398-cdbd-4c1f-c34b-1422616a2dbc"
      },
      "execution_count": null,
      "outputs": [
        {
          "output_type": "execute_result",
          "data": {
            "text/plain": [
              "(array([ 3.33333333,  5.        ,  7.        , 35.        , 37.        ,\n",
              "        21.66666667, 46.        ]),\n",
              " array([ 4.,  5.,  6., 30., 50., 21., 40.]))"
            ]
          },
          "metadata": {},
          "execution_count": 37
        }
      ]
    },
    {
      "cell_type": "code",
      "source": [
        "# Example 11: Compute the mean and median of an 2d-array in each column\n",
        "mean_value = np.mean(array_2d, axis=1)\n",
        "median_value = np.median(array_2d, axis=1)\n",
        "mean_value, median_value"
      ],
      "metadata": {
        "colab": {
          "base_uri": "https://localhost:8080/"
        },
        "id": "6lrvIMAWV0L-",
        "outputId": "6fedf962-315c-44ae-e7d1-bbb8d782eff2"
      },
      "execution_count": null,
      "outputs": [
        {
          "output_type": "execute_result",
          "data": {
            "text/plain": [
              "(array([ 8.        , 22.28571429, 36.14285714]), array([ 5., 21., 29.]))"
            ]
          },
          "metadata": {},
          "execution_count": 39
        }
      ]
    },
    {
      "cell_type": "code",
      "execution_count": null,
      "metadata": {
        "id": "fCzokghM9PHz",
        "colab": {
          "base_uri": "https://localhost:8080/"
        },
        "outputId": "7013d468-8226-4ccc-8bee-35c7991cc6d0"
      },
      "outputs": [
        {
          "output_type": "execute_result",
          "data": {
            "text/plain": [
              "array([11, 12, 13, 14, 15])"
            ]
          },
          "metadata": {},
          "execution_count": 40
        }
      ],
      "source": [
        "# Example 12: Perform element-wise addition\n",
        "array_added = array_1d + 10\n",
        "array_added"
      ]
    },
    {
      "cell_type": "code",
      "source": [
        "# Example 13: Perform element-wise addition based on the array\n",
        "array_added = array_1d + array_1d\n",
        "array_added"
      ],
      "metadata": {
        "colab": {
          "base_uri": "https://localhost:8080/"
        },
        "id": "OdHCxCqXXt25",
        "outputId": "febe5121-4a13-4573-d8a4-6d85f24cdb32"
      },
      "execution_count": null,
      "outputs": [
        {
          "output_type": "execute_result",
          "data": {
            "text/plain": [
              "array([ 2,  4,  6,  8, 10])"
            ]
          },
          "metadata": {},
          "execution_count": 41
        }
      ]
    },
    {
      "cell_type": "code",
      "execution_count": null,
      "metadata": {
        "id": "9pyqE7IL9PHz",
        "colab": {
          "base_uri": "https://localhost:8080/"
        },
        "outputId": "f8b24382-4f25-4d75-efaa-648f48eef4b1"
      },
      "outputs": [
        {
          "output_type": "execute_result",
          "data": {
            "text/plain": [
              "array([[ 1,  2,  3],\n",
              "       [ 5, 10, 15],\n",
              "       [20,  4,  5],\n",
              "       [ 6, 30, 50],\n",
              "       [21, 40,  5],\n",
              "       [ 8, 12, 70],\n",
              "       [51, 29, 78]])"
            ]
          },
          "metadata": {},
          "execution_count": 42
        }
      ],
      "source": [
        "# Example 14: Reshape an array\n",
        "reshaped_array = array_2d.reshape((7, 3))\n",
        "reshaped_array"
      ]
    },
    {
      "cell_type": "code",
      "source": [
        "# Example 15: Transformation\n",
        "reshaped_array = array_2d.T\n",
        "reshaped_array"
      ],
      "metadata": {
        "colab": {
          "base_uri": "https://localhost:8080/"
        },
        "id": "v_WuNC_9YDqI",
        "outputId": "14bd6ab5-79d6-4f06-a18d-e4858c7f51b4"
      },
      "execution_count": null,
      "outputs": [
        {
          "output_type": "execute_result",
          "data": {
            "text/plain": [
              "array([[ 1,  4,  5],\n",
              "       [ 2,  5,  8],\n",
              "       [ 3,  6, 12],\n",
              "       [ 5, 30, 70],\n",
              "       [10, 50, 51],\n",
              "       [15, 21, 29],\n",
              "       [20, 40, 78]])"
            ]
          },
          "metadata": {},
          "execution_count": 43
        }
      ]
    },
    {
      "cell_type": "code",
      "source": [
        "# Example 16: Slicing data\n",
        "array_2d[:2,3:]"
      ],
      "metadata": {
        "colab": {
          "base_uri": "https://localhost:8080/"
        },
        "id": "peKqboK8dBNq",
        "outputId": "76a40a2e-fc33-4770-de03-4335e9887eb0"
      },
      "execution_count": null,
      "outputs": [
        {
          "output_type": "execute_result",
          "data": {
            "text/plain": [
              "array([[ 5, 10, 15, 20],\n",
              "       [30, 50, 21, 40]])"
            ]
          },
          "metadata": {},
          "execution_count": 44
        }
      ]
    },
    {
      "cell_type": "code",
      "source": [
        "# Example 17: number of dimension\n",
        "array_2d.ndim"
      ],
      "metadata": {
        "colab": {
          "base_uri": "https://localhost:8080/"
        },
        "id": "NPt4hG7mdk9G",
        "outputId": "7d366e42-dc1e-48e8-dc82-fa33f9a45145"
      },
      "execution_count": null,
      "outputs": [
        {
          "output_type": "execute_result",
          "data": {
            "text/plain": [
              "2"
            ]
          },
          "metadata": {},
          "execution_count": 45
        }
      ]
    },
    {
      "cell_type": "code",
      "source": [
        "# Example 18: size of the data\n",
        "array_2d.size"
      ],
      "metadata": {
        "colab": {
          "base_uri": "https://localhost:8080/"
        },
        "id": "ijO_KAk1dsVG",
        "outputId": "05c2baf3-2ced-48c9-b49d-b61844dbfbd4"
      },
      "execution_count": null,
      "outputs": [
        {
          "output_type": "execute_result",
          "data": {
            "text/plain": [
              "21"
            ]
          },
          "metadata": {},
          "execution_count": 46
        }
      ]
    },
    {
      "cell_type": "code",
      "source": [
        "# Example 19: NAN values\n",
        "array_2d = np.array([[1, 2, 3, 5, 10, 15, 20], [4, 5, np.nan, 30, 50, 21, 40], [5, 8, 12, 70, 51, 29, 78]])\n",
        "array_2d"
      ],
      "metadata": {
        "colab": {
          "base_uri": "https://localhost:8080/"
        },
        "id": "xRHIoLaMdy2D",
        "outputId": "7cd5340c-46c2-4737-ba6a-c13fa1c0f287"
      },
      "execution_count": null,
      "outputs": [
        {
          "output_type": "execute_result",
          "data": {
            "text/plain": [
              "array([[ 1.,  2.,  3.,  5., 10., 15., 20.],\n",
              "       [ 4.,  5., nan, 30., 50., 21., 40.],\n",
              "       [ 5.,  8., 12., 70., 51., 29., 78.]])"
            ]
          },
          "metadata": {},
          "execution_count": 47
        }
      ]
    },
    {
      "cell_type": "code",
      "source": [
        "# Example 20: Make a zeros array\n",
        "array_2d = np.zeros((3,7))\n",
        "array_2d"
      ],
      "metadata": {
        "colab": {
          "base_uri": "https://localhost:8080/"
        },
        "id": "v7U-_D5jeLAW",
        "outputId": "41e9fb20-59f2-4d48-be53-7230cbc5c13e"
      },
      "execution_count": null,
      "outputs": [
        {
          "output_type": "execute_result",
          "data": {
            "text/plain": [
              "array([[0., 0., 0., 0., 0., 0., 0.],\n",
              "       [0., 0., 0., 0., 0., 0., 0.],\n",
              "       [0., 0., 0., 0., 0., 0., 0.]])"
            ]
          },
          "metadata": {},
          "execution_count": 48
        }
      ]
    },
    {
      "cell_type": "code",
      "source": [
        "# Example 21: Make a ones array\n",
        "array_2d = np.ones((3,7))\n",
        "array_2d"
      ],
      "metadata": {
        "colab": {
          "base_uri": "https://localhost:8080/"
        },
        "id": "cQTqPJc9eXqb",
        "outputId": "d66fb984-8c40-45fd-a74b-11a0916adc44"
      },
      "execution_count": null,
      "outputs": [
        {
          "output_type": "execute_result",
          "data": {
            "text/plain": [
              "array([[1., 1., 1., 1., 1., 1., 1.],\n",
              "       [1., 1., 1., 1., 1., 1., 1.],\n",
              "       [1., 1., 1., 1., 1., 1., 1.]])"
            ]
          },
          "metadata": {},
          "execution_count": 49
        }
      ]
    },
    {
      "cell_type": "code",
      "source": [
        "# Example 22: Make a two array\n",
        "array_2d = 2*np.ones((3,7))\n",
        "array_2d"
      ],
      "metadata": {
        "colab": {
          "base_uri": "https://localhost:8080/"
        },
        "id": "aHcsPrVIer8K",
        "outputId": "9785fb25-2346-4584-8c31-b35a5093f7ff"
      },
      "execution_count": null,
      "outputs": [
        {
          "output_type": "execute_result",
          "data": {
            "text/plain": [
              "array([[2., 2., 2., 2., 2., 2., 2.],\n",
              "       [2., 2., 2., 2., 2., 2., 2.],\n",
              "       [2., 2., 2., 2., 2., 2., 2.]])"
            ]
          },
          "metadata": {},
          "execution_count": 50
        }
      ]
    },
    {
      "cell_type": "code",
      "source": [
        "# Example 23: Make an range data\n",
        "array_1d = np.arange(0,10)\n",
        "array_1d"
      ],
      "metadata": {
        "colab": {
          "base_uri": "https://localhost:8080/"
        },
        "id": "PfK0Y3lzekH-",
        "outputId": "e062a2fe-667e-42b5-e5fa-314c9e54e6bc"
      },
      "execution_count": null,
      "outputs": [
        {
          "output_type": "execute_result",
          "data": {
            "text/plain": [
              "array([0, 1, 2, 3, 4, 5, 6, 7, 8, 9])"
            ]
          },
          "metadata": {},
          "execution_count": 54
        }
      ]
    },
    {
      "cell_type": "code",
      "source": [
        "# Example 24: Make a range data with step\n",
        "array_1d = np.arange(0,11,2)\n",
        "array_1d"
      ],
      "metadata": {
        "colab": {
          "base_uri": "https://localhost:8080/"
        },
        "id": "hqDNrjHufPgJ",
        "outputId": "6835126e-ddea-4402-c2c4-b059c1f7d6fa"
      },
      "execution_count": null,
      "outputs": [
        {
          "output_type": "execute_result",
          "data": {
            "text/plain": [
              "array([ 0,  2,  4,  6,  8, 10])"
            ]
          },
          "metadata": {},
          "execution_count": 57
        }
      ]
    },
    {
      "cell_type": "code",
      "source": [
        "# documentation of a command\n",
        "?np.arange"
      ],
      "metadata": {
        "id": "26sE40jLfcQI"
      },
      "execution_count": null,
      "outputs": []
    },
    {
      "cell_type": "code",
      "source": [
        "# Example 25: Make a data with specific number\n",
        "array_1d = np.linspace(0,1,9)\n",
        "array_1d"
      ],
      "metadata": {
        "colab": {
          "base_uri": "https://localhost:8080/"
        },
        "id": "6_fwtVcigFjA",
        "outputId": "ebd316f2-5ee5-4054-8f37-2d909f801e87"
      },
      "execution_count": null,
      "outputs": [
        {
          "output_type": "execute_result",
          "data": {
            "text/plain": [
              "array([0.   , 0.125, 0.25 , 0.375, 0.5  , 0.625, 0.75 , 0.875, 1.   ])"
            ]
          },
          "metadata": {},
          "execution_count": 61
        }
      ]
    },
    {
      "cell_type": "code",
      "source": [
        "array_1d.shape"
      ],
      "metadata": {
        "colab": {
          "base_uri": "https://localhost:8080/"
        },
        "id": "rt0e4payhH2u",
        "outputId": "fd29a9b8-a8cc-4527-ba88-12b9a61607ef"
      },
      "execution_count": null,
      "outputs": [
        {
          "output_type": "execute_result",
          "data": {
            "text/plain": [
              "(9,)"
            ]
          },
          "metadata": {},
          "execution_count": 62
        }
      ]
    },
    {
      "cell_type": "code",
      "source": [
        "# Example 26: Make a data with specific number\n",
        "array_1d = np.linspace(0,1,10)\n",
        "array_1d"
      ],
      "metadata": {
        "colab": {
          "base_uri": "https://localhost:8080/"
        },
        "id": "26VnBbIBhJrj",
        "outputId": "c565f4a4-2fb9-4fec-9383-d9c47703d838"
      },
      "execution_count": null,
      "outputs": [
        {
          "output_type": "execute_result",
          "data": {
            "text/plain": [
              "array([0.        , 0.11111111, 0.22222222, 0.33333333, 0.44444444,\n",
              "       0.55555556, 0.66666667, 0.77777778, 0.88888889, 1.        ])"
            ]
          },
          "metadata": {},
          "execution_count": 63
        }
      ]
    },
    {
      "cell_type": "code",
      "source": [
        "# Example 27: Make a data with specific number\n",
        "array_1d = np.linspace(10,100,10)\n",
        "array_1d"
      ],
      "metadata": {
        "colab": {
          "base_uri": "https://localhost:8080/"
        },
        "id": "JvUu67V4hRru",
        "outputId": "df0e9bfa-c1ee-4a72-ab46-533b618ef214"
      },
      "execution_count": null,
      "outputs": [
        {
          "output_type": "execute_result",
          "data": {
            "text/plain": [
              "array([ 10.,  20.,  30.,  40.,  50.,  60.,  70.,  80.,  90., 100.])"
            ]
          },
          "metadata": {},
          "execution_count": 64
        }
      ]
    },
    {
      "cell_type": "code",
      "source": [
        "# Example 28: Lograrithmic array\n",
        "array_1d = np.logspace(2,10,10)\n",
        "array_1d"
      ],
      "metadata": {
        "colab": {
          "base_uri": "https://localhost:8080/"
        },
        "id": "wpgGMSTVhZ12",
        "outputId": "e85f93f0-35fb-40a5-aaa9-d970f8781866"
      },
      "execution_count": null,
      "outputs": [
        {
          "output_type": "execute_result",
          "data": {
            "text/plain": [
              "array([1.00000000e+02, 7.74263683e+02, 5.99484250e+03, 4.64158883e+04,\n",
              "       3.59381366e+05, 2.78255940e+06, 2.15443469e+07, 1.66810054e+08,\n",
              "       1.29154967e+09, 1.00000000e+10])"
            ]
          },
          "metadata": {},
          "execution_count": 66
        }
      ]
    },
    {
      "cell_type": "code",
      "source": [
        "# Example 29: exponential function\n",
        "array_1d = np.linspace(10,100,10)\n",
        "array_1d = np.exp(array_1d)\n",
        "array_1d"
      ],
      "metadata": {
        "colab": {
          "base_uri": "https://localhost:8080/"
        },
        "id": "HauCTm31h8am",
        "outputId": "1bba0dcb-a47c-4bcf-86c6-ed5f17ce2a57"
      },
      "execution_count": null,
      "outputs": [
        {
          "output_type": "execute_result",
          "data": {
            "text/plain": [
              "array([2.20264658e+04, 4.85165195e+08, 1.06864746e+13, 2.35385267e+17,\n",
              "       5.18470553e+21, 1.14200739e+26, 2.51543867e+30, 5.54062238e+34,\n",
              "       1.22040329e+39, 2.68811714e+43])"
            ]
          },
          "metadata": {},
          "execution_count": 70
        }
      ]
    },
    {
      "cell_type": "code",
      "source": [
        "# Example 30: logarithmic function\n",
        "array_1d = np.linspace(10,1000,10)\n",
        "array_1d = np.log(array_1d)\n",
        "array_1d"
      ],
      "metadata": {
        "colab": {
          "base_uri": "https://localhost:8080/"
        },
        "id": "5dNJnzlnic7R",
        "outputId": "260422cf-c988-44e9-b4b5-d130cc051ca2"
      },
      "execution_count": null,
      "outputs": [
        {
          "output_type": "execute_result",
          "data": {
            "text/plain": [
              "array([2.30258509, 4.78749174, 5.43807931, 5.82894562, 6.10924758,\n",
              "       6.32793678, 6.50727771, 6.65929392, 6.79122146, 6.90775528])"
            ]
          },
          "metadata": {},
          "execution_count": 72
        }
      ]
    },
    {
      "cell_type": "code",
      "source": [
        "# Example 31: sorting data\n",
        "array_1d = [10,20,10, 30, 21, 51, 11]\n",
        "array_1d = np.sort(array_1d)\n",
        "array_1d"
      ],
      "metadata": {
        "colab": {
          "base_uri": "https://localhost:8080/"
        },
        "id": "MPCXE5xPi5JG",
        "outputId": "16e0dcea-9504-41d4-fb8b-4fed84821706"
      },
      "execution_count": null,
      "outputs": [
        {
          "output_type": "execute_result",
          "data": {
            "text/plain": [
              "array([10, 10, 11, 20, 21, 30, 51])"
            ]
          },
          "metadata": {},
          "execution_count": 73
        }
      ]
    },
    {
      "cell_type": "code",
      "source": [
        "# Example 32: unique values\n",
        "array_1d = [10,20,10, 30, 21, 51, 11]\n",
        "array_1d = np.unique(array_1d)\n",
        "array_1d"
      ],
      "metadata": {
        "colab": {
          "base_uri": "https://localhost:8080/"
        },
        "id": "vberwrDPjUNo",
        "outputId": "2e3bcb75-f689-4ee2-b0b3-f0811ff0ee0c"
      },
      "execution_count": null,
      "outputs": [
        {
          "output_type": "execute_result",
          "data": {
            "text/plain": [
              "array([10, 11, 20, 21, 30, 51])"
            ]
          },
          "metadata": {},
          "execution_count": 74
        }
      ]
    },
    {
      "cell_type": "code",
      "source": [
        "# Example 33: concantenate array\n",
        "array_1d = [10,20,10, 30, 21, 51, 11]\n",
        "array_1_second = [1,2,5, 3, 2, 5, 21]\n",
        "array_1d = np.concatenate([array_1d,array_1_second])\n",
        "array_1d"
      ],
      "metadata": {
        "colab": {
          "base_uri": "https://localhost:8080/"
        },
        "id": "0cZyo2LVjbbl",
        "outputId": "280b2c31-5467-41b9-dfa4-d88e1284f226"
      },
      "execution_count": null,
      "outputs": [
        {
          "output_type": "execute_result",
          "data": {
            "text/plain": [
              "array([10, 20, 10, 30, 21, 51, 11,  1,  2,  5,  3,  2,  5, 21])"
            ]
          },
          "metadata": {},
          "execution_count": 77
        }
      ]
    },
    {
      "cell_type": "code",
      "source": [
        "# Example 34: create a new axis\n",
        "array_1d = np.array([10,20,10, 30, 21, 51, 11])\n",
        "array_1d[np.newaxis,:].shape"
      ],
      "metadata": {
        "colab": {
          "base_uri": "https://localhost:8080/"
        },
        "id": "c-EKFRSRj3XV",
        "outputId": "1d671476-360c-4ba0-acaf-b16fe1e3fd4e"
      },
      "execution_count": null,
      "outputs": [
        {
          "output_type": "execute_result",
          "data": {
            "text/plain": [
              "(1, 7)"
            ]
          },
          "metadata": {},
          "execution_count": 84
        }
      ]
    },
    {
      "cell_type": "code",
      "source": [
        "# Example 34: filtering data\n",
        "array_1d = np.array([10,20,10, 30, 21, 51, 11])\n",
        "array_1d[array_1d<50]"
      ],
      "metadata": {
        "colab": {
          "base_uri": "https://localhost:8080/"
        },
        "id": "yTdBSjpPkbq2",
        "outputId": "3e3574a8-7af4-4ca0-c29c-e70af5008384"
      },
      "execution_count": null,
      "outputs": [
        {
          "output_type": "execute_result",
          "data": {
            "text/plain": [
              "array([10, 20, 10, 30, 21, 11])"
            ]
          },
          "metadata": {},
          "execution_count": 85
        }
      ]
    },
    {
      "cell_type": "code",
      "source": [
        "array_1d<50"
      ],
      "metadata": {
        "colab": {
          "base_uri": "https://localhost:8080/"
        },
        "id": "u1Z1MfyjkkCC",
        "outputId": "1b29a7c1-db3e-4bcb-8aca-fb7865526f8d"
      },
      "execution_count": null,
      "outputs": [
        {
          "output_type": "execute_result",
          "data": {
            "text/plain": [
              "array([ True,  True,  True,  True,  True, False,  True])"
            ]
          },
          "metadata": {},
          "execution_count": 86
        }
      ]
    },
    {
      "cell_type": "code",
      "source": [
        "# Example 35: finding max, min, average, and so on\n",
        "array_1d = np.array([10,20,10, 30, 21, 51, 11])\n",
        "array_1d.min(), array_1d.max(), array_1d.mean()"
      ],
      "metadata": {
        "colab": {
          "base_uri": "https://localhost:8080/"
        },
        "id": "ud9ufYU9kwsS",
        "outputId": "1070cee7-ffbc-483a-feb9-744c0a25168b"
      },
      "execution_count": null,
      "outputs": [
        {
          "output_type": "execute_result",
          "data": {
            "text/plain": [
              "(10, 51, 21.857142857142858)"
            ]
          },
          "metadata": {},
          "execution_count": 87
        }
      ]
    },
    {
      "cell_type": "code",
      "source": [
        "# Example 36: finding max, min, average on 2d array row wise\n",
        "array_2d = np.array([[1, 2, 3, 5, 10, 15, 20], [4, 5, 10, 30, 50, 21, 40], [5, 8, 12, 70, 51, 29, 78]])\n",
        "\n",
        "array_2d.min(), array_2d.max(), array_2d.mean()"
      ],
      "metadata": {
        "colab": {
          "base_uri": "https://localhost:8080/"
        },
        "id": "FYwb1RSilb4F",
        "outputId": "5d51cb26-9f09-43f6-ed68-f2e8dd3144f7"
      },
      "execution_count": null,
      "outputs": [
        {
          "output_type": "execute_result",
          "data": {
            "text/plain": [
              "(1, 78, 22.333333333333332)"
            ]
          },
          "metadata": {},
          "execution_count": 89
        }
      ]
    },
    {
      "cell_type": "code",
      "source": [
        "# Example 37: finding max, min, average on 2d array column wise\n",
        "array_2d = np.array([[1, 2, 3, 5, 10, 15, 20], [4, 5, 10, 30, 50, 21, 40], [5, 8, 12, 70, 51, 29, 78]])\n",
        "\n",
        "array_2d.min(axis=1), array_2d.max(axis=1), array_2d.mean(axis=1)"
      ],
      "metadata": {
        "colab": {
          "base_uri": "https://localhost:8080/"
        },
        "id": "XjaJzBbUlqXZ",
        "outputId": "f0ac377c-e531-487f-fdc8-c50891b35dd4"
      },
      "execution_count": null,
      "outputs": [
        {
          "output_type": "execute_result",
          "data": {
            "text/plain": [
              "(array([1, 4, 5]),\n",
              " array([20, 50, 78]),\n",
              " array([ 8.        , 22.85714286, 36.14285714]))"
            ]
          },
          "metadata": {},
          "execution_count": 90
        }
      ]
    },
    {
      "cell_type": "code",
      "source": [
        "# Example 38: flatten you data\n",
        "array_2d = np.array([[1, 2, 3, 5, 10, 15, 20], [4, 5, 10, 30, 50, 21, 40], [5, 8, 12, 70, 51, 29, 78]])\n",
        "array_2d.flatten()"
      ],
      "metadata": {
        "colab": {
          "base_uri": "https://localhost:8080/"
        },
        "id": "NQnW-de8lzgO",
        "outputId": "254b93b3-f390-49af-afd0-3abf3180342f"
      },
      "execution_count": null,
      "outputs": [
        {
          "output_type": "execute_result",
          "data": {
            "text/plain": [
              "array([ 1,  2,  3,  5, 10, 15, 20,  4,  5, 10, 30, 50, 21, 40,  5,  8, 12,\n",
              "       70, 51, 29, 78])"
            ]
          },
          "metadata": {},
          "execution_count": 91
        }
      ]
    },
    {
      "cell_type": "code",
      "source": [
        "# Example 39: save your array\n",
        "array_2d = np.array([[1, 2, 3, 5, 10, 15, 20], [4, 5, 10, 30, 50, 21, 40], [5, 8, 12, 70, 51, 29, 78]])\n",
        "np.save('array_2d.npy', array_2d)"
      ],
      "metadata": {
        "id": "NpEGv9NhmQc8"
      },
      "execution_count": null,
      "outputs": []
    },
    {
      "cell_type": "code",
      "source": [
        "# Example 40: save your big array (efficient and fast)\n",
        "array_2d = np.linspace(0,1e5, 100000)\n",
        "np.save('array_2d.npy', array_2d)"
      ],
      "metadata": {
        "id": "BB8jTm0imw9E"
      },
      "execution_count": null,
      "outputs": []
    },
    {
      "cell_type": "markdown",
      "metadata": {
        "id": "GZO8ZhRA9PH0"
      },
      "source": [
        "## SciPy\n",
        "SciPy is an open-source library used for scientific and technical computing. It builds on NumPy and provides additional functionality.\n",
        "\n",
        "### Features:\n",
        "- Optimization\n",
        "- Integration\n",
        "- Interpolation\n",
        "\n",
        "### Examples:"
      ]
    },
    {
      "cell_type": "code",
      "source": [
        "# An easy way to introduce a funcion\n",
        "equation = lambda x: (x-2)**2\n",
        "\n",
        "def equation_second(x):\n",
        "\n",
        "    return (x-2)**2"
      ],
      "metadata": {
        "id": "dXv4GKhdn9Uk"
      },
      "execution_count": null,
      "outputs": []
    },
    {
      "cell_type": "code",
      "execution_count": null,
      "metadata": {
        "id": "F2YGAhKK9PH0",
        "colab": {
          "base_uri": "https://localhost:8080/"
        },
        "outputId": "88b9133d-dc2e-471b-c2a2-64568fb921e0"
      },
      "outputs": [
        {
          "output_type": "execute_result",
          "data": {
            "text/plain": [
              "  message: CONVERGENCE: NORM_OF_PROJECTED_GRADIENT_<=_PGTOL\n",
              "  success: True\n",
              "   status: 0\n",
              "      fun: 1.1082019140377291e-18\n",
              "        x: [ 2.000e+00]\n",
              "      nit: 2\n",
              "      jac: [ 1.211e-08]\n",
              "     nfev: 6\n",
              "     njev: 3\n",
              " hess_inv: <1x1 LbfgsInvHessProduct with dtype=float64>"
            ]
          },
          "metadata": {},
          "execution_count": 9
        }
      ],
      "source": [
        "from scipy import optimize\n",
        "\n",
        "# Example 1: Minimize a simple function\n",
        "result = optimize.minimize(equation_second, 0,method ='L-BFGS-B')\n",
        "result"
      ]
    },
    {
      "cell_type": "code",
      "source": [
        "from scipy import optimize\n",
        "\n",
        "# Example 2: Minimize a simple function\n",
        "result = optimize.minimize(equation_second, 0,method ='Nelder-Mead')\n",
        "result"
      ],
      "metadata": {
        "colab": {
          "base_uri": "https://localhost:8080/"
        },
        "id": "29WDDjBGpqCt",
        "outputId": "cc695411-72b6-498e-bcfc-098b206ccd66"
      },
      "execution_count": null,
      "outputs": [
        {
          "output_type": "execute_result",
          "data": {
            "text/plain": [
              "       message: Optimization terminated successfully.\n",
              "       success: True\n",
              "        status: 0\n",
              "           fun: 4.930380657631324e-30\n",
              "             x: [ 2.000e+00]\n",
              "           nit: 27\n",
              "          nfev: 54\n",
              " final_simplex: (array([[ 2.000e+00],\n",
              "                       [ 2.000e+00]]), array([ 4.930e-30,  3.906e-09]))"
            ]
          },
          "metadata": {},
          "execution_count": 10
        }
      ]
    },
    {
      "cell_type": "code",
      "execution_count": null,
      "metadata": {
        "id": "cd0K3sbX9PH0",
        "colab": {
          "base_uri": "https://localhost:8080/"
        },
        "outputId": "f77068cc-ddeb-4eda-c58a-1aa7a271068b"
      },
      "outputs": [
        {
          "output_type": "execute_result",
          "data": {
            "text/plain": [
              "array([2., 3.])"
            ]
          },
          "metadata": {},
          "execution_count": 11
        }
      ],
      "source": [
        "# Example 3: Solve a linear equation\n",
        "from scipy.linalg import solve\n",
        "# A = A[0,0]*x+A[0,1]*y this is the equation\n",
        "# A = {3*x+y=9, x+2*y=8}\n",
        "A = np.array([[3, 1], [1, 2]])\n",
        "b = np.array([9, 8])\n",
        "solution = solve(A, b)\n",
        "solution"
      ]
    },
    {
      "cell_type": "code",
      "source": [
        "# Example 4: Solve a linear equation\n",
        "from scipy.linalg import solve\n",
        "# A = A[0,0]*x+A[0,1]*y this is the equation\n",
        "# A = {10*x+5*y=1, 8*x+9*y=25}\n",
        "A = np.array([[10, 5], [8, 9]])\n",
        "b = np.array([1, 25])\n",
        "solution = solve(A, b)\n",
        "solution"
      ],
      "metadata": {
        "colab": {
          "base_uri": "https://localhost:8080/"
        },
        "id": "vPQ52cZrrpm3",
        "outputId": "93bdabf4-6eb0-4e3c-cb58-3be4a1fd0805"
      },
      "execution_count": null,
      "outputs": [
        {
          "output_type": "execute_result",
          "data": {
            "text/plain": [
              "array([-2.32,  4.84])"
            ]
          },
          "metadata": {},
          "execution_count": 12
        }
      ]
    },
    {
      "cell_type": "code",
      "execution_count": null,
      "metadata": {
        "id": "x-vwEgrc9PH0",
        "colab": {
          "base_uri": "https://localhost:8080/"
        },
        "outputId": "aaf6e5ab-9692-4614-ee1e-8a006ca4873d"
      },
      "outputs": [
        {
          "output_type": "execute_result",
          "data": {
            "text/plain": [
              "0.33333333333333337"
            ]
          },
          "metadata": {},
          "execution_count": 13
        }
      ],
      "source": [
        "# Example 5: Perform integration\n",
        "from scipy.integrate import quad\n",
        "integral_result, _ = quad(lambda x: x**2, 0, 1)\n",
        "integral_result"
      ]
    },
    {
      "cell_type": "code",
      "source": [
        "# Example 6: Perform integration of two-d equation\n",
        "from scipy.integrate import  dblquad\n",
        "f = lambda y, x: x*y**2\n",
        "integral_result, _ = dblquad(f, 0, 1, 0, 5)\n",
        "integral_result"
      ],
      "metadata": {
        "colab": {
          "base_uri": "https://localhost:8080/"
        },
        "id": "dUvs4VtntKOB",
        "outputId": "7e7e3a3f-7b26-4d04-95c9-17e5e04b7af5"
      },
      "execution_count": null,
      "outputs": [
        {
          "output_type": "execute_result",
          "data": {
            "text/plain": [
              "20.833333333333336"
            ]
          },
          "metadata": {},
          "execution_count": 15
        }
      ]
    },
    {
      "cell_type": "code",
      "execution_count": null,
      "metadata": {
        "id": "sSdh-0DI9PH0",
        "colab": {
          "base_uri": "https://localhost:8080/"
        },
        "outputId": "0736dd27-d4bd-485e-d86d-9e479904e7f6"
      },
      "outputs": [
        {
          "output_type": "execute_result",
          "data": {
            "text/plain": [
              "array(2.5)"
            ]
          },
          "metadata": {},
          "execution_count": 17
        }
      ],
      "source": [
        "# Example 7: Interpolate data with linear\n",
        "from scipy.interpolate import interp1d\n",
        "x = np.array([0, 1, 2, 3])\n",
        "y = np.array([0, 1, 4, 9])\n",
        "f = interp1d(x, y, kind='linear')\n",
        "interpolated_value = f(1.5)\n",
        "interpolated_value"
      ]
    },
    {
      "cell_type": "code",
      "source": [
        "# Example 8: Interpolate data with quadratic\n",
        "from scipy.interpolate import interp1d\n",
        "x = np.array([0, 1, 2, 3])\n",
        "y = np.array([0, 1, 4, 9])\n",
        "f = interp1d(x, y, kind='quadratic')\n",
        "interpolated_value = f(1.5)\n",
        "interpolated_value"
      ],
      "metadata": {
        "colab": {
          "base_uri": "https://localhost:8080/"
        },
        "id": "IunE_AtWxLYU",
        "outputId": "cf3ff453-a747-480f-9b7c-dd4f593695c4"
      },
      "execution_count": null,
      "outputs": [
        {
          "output_type": "execute_result",
          "data": {
            "text/plain": [
              "array(2.25)"
            ]
          },
          "metadata": {},
          "execution_count": 18
        }
      ]
    },
    {
      "cell_type": "code",
      "source": [
        "# Example 8: Interpolate data with cubic\n",
        "from scipy.interpolate import interp1d\n",
        "x = np.array([0, 1, 2, 3])\n",
        "y = np.array([0, 1, 4, 9])\n",
        "f = interp1d(x, y, kind='cubic')\n",
        "interpolated_value = f(1.5)\n",
        "interpolated_value"
      ],
      "metadata": {
        "colab": {
          "base_uri": "https://localhost:8080/"
        },
        "id": "MRkli2wnxnMR",
        "outputId": "4888b250-3d0a-43c5-ff1d-7b84a9f1c8ef"
      },
      "execution_count": null,
      "outputs": [
        {
          "output_type": "execute_result",
          "data": {
            "text/plain": [
              "array(2.25)"
            ]
          },
          "metadata": {},
          "execution_count": 19
        }
      ]
    },
    {
      "cell_type": "code",
      "source": [
        "# Example 9: Interpolate data with nearest\n",
        "from scipy.interpolate import interp1d\n",
        "x = np.array([0, 1, 2, 3])\n",
        "y = np.array([0, 1, 4, 9])\n",
        "f = interp1d(x, y, kind='nearest')\n",
        "interpolated_value = f(1.5)\n",
        "interpolated_value"
      ],
      "metadata": {
        "colab": {
          "base_uri": "https://localhost:8080/"
        },
        "id": "9_RooQr2yDg6",
        "outputId": "6b7c26d0-14e2-464e-a1d1-2aead8192710"
      },
      "execution_count": null,
      "outputs": [
        {
          "output_type": "execute_result",
          "data": {
            "text/plain": [
              "array(1.)"
            ]
          },
          "metadata": {},
          "execution_count": 20
        }
      ]
    },
    {
      "cell_type": "code",
      "source": [
        "# Example 10: Interpolate data with nearest\n",
        "from scipy.interpolate import interp2d\n",
        "x = np.array([0, 1, 2, 3])\n",
        "y = np.array([0, 1, 4, 9])\n",
        "z = np.array([0, 5, 6, 12])\n",
        "f = interp2d(x, y, z, kind='linear')\n",
        "interpolated_value = f(1.5,2)\n",
        "interpolated_value"
      ],
      "metadata": {
        "colab": {
          "base_uri": "https://localhost:8080/"
        },
        "id": "irCIr0rXyTzB",
        "outputId": "a214665c-1c1a-4ec1-eb3d-fd294bdb8167"
      },
      "execution_count": null,
      "outputs": [
        {
          "output_type": "stream",
          "name": "stderr",
          "text": [
            "<ipython-input-22-ebce12617a0a>:6: DeprecationWarning: `interp2d` is deprecated in SciPy 1.10 and will be removed in SciPy 1.14.0.\n",
            "\n",
            "For legacy code, nearly bug-for-bug compatible replacements are\n",
            "`RectBivariateSpline` on regular grids, and `bisplrep`/`bisplev` for\n",
            "scattered 2D data.\n",
            "\n",
            "In new code, for regular grids use `RegularGridInterpolator` instead.\n",
            "For scattered data, prefer `LinearNDInterpolator` or\n",
            "`CloughTocher2DInterpolator`.\n",
            "\n",
            "For more details see\n",
            "`https://scipy.github.io/devdocs/notebooks/interp_transition_guide.html`\n",
            "\n",
            "  f = interp2d(x, y, z, kind='linear')\n",
            "<ipython-input-22-ebce12617a0a>:7: DeprecationWarning: `interp2d` is deprecated in SciPy 1.10 and will be removed in SciPy 1.14.0.\n",
            "\n",
            "For legacy code, nearly bug-for-bug compatible replacements are\n",
            "`RectBivariateSpline` on regular grids, and `bisplrep`/`bisplev` for\n",
            "scattered 2D data.\n",
            "\n",
            "In new code, for regular grids use `RegularGridInterpolator` instead.\n",
            "For scattered data, prefer `LinearNDInterpolator` or\n",
            "`CloughTocher2DInterpolator`.\n",
            "\n",
            "For more details see\n",
            "`https://scipy.github.io/devdocs/notebooks/interp_transition_guide.html`\n",
            "\n",
            "  interpolated_value = f(1.5,2)\n"
          ]
        },
        {
          "output_type": "execute_result",
          "data": {
            "text/plain": [
              "array([6.5])"
            ]
          },
          "metadata": {},
          "execution_count": 22
        }
      ]
    },
    {
      "cell_type": "code",
      "source": [
        "#  from 'packagename.subpkacge' import 'functionname'"
      ],
      "metadata": {
        "id": "dSgDiKniKxCR"
      },
      "execution_count": null,
      "outputs": []
    },
    {
      "cell_type": "code",
      "source": [
        "import scipy"
      ],
      "metadata": {
        "id": "fkYPG7aLK8cX"
      },
      "execution_count": 1,
      "outputs": []
    },
    {
      "cell_type": "code",
      "source": [
        "from scipy import *"
      ],
      "metadata": {
        "id": "q7zjrC5PLDyh"
      },
      "execution_count": 2,
      "outputs": []
    },
    {
      "cell_type": "code",
      "source": [
        "stats.norm"
      ],
      "metadata": {
        "id": "e_vCz_24LJsg"
      },
      "execution_count": null,
      "outputs": []
    },
    {
      "cell_type": "code",
      "source": [
        "scipy.stats.norm"
      ],
      "metadata": {
        "id": "Gn43znrlK9xp"
      },
      "execution_count": null,
      "outputs": []
    },
    {
      "cell_type": "code",
      "execution_count": 8,
      "metadata": {
        "id": "ha-xyGnN9PH0",
        "colab": {
          "base_uri": "https://localhost:8080/"
        },
        "outputId": "b73c2f59-d767-4971-8da6-92471f333ace"
      },
      "outputs": [
        {
          "output_type": "execute_result",
          "data": {
            "text/plain": [
              "(0.009711892291595955, 0.9981138545901473)"
            ]
          },
          "metadata": {},
          "execution_count": 8
        }
      ],
      "source": [
        "# Example 11: Generate a Gaussian distribution\n",
        "from scipy.stats import norm #Generate a Gaussian distribution\n",
        "import numpy as np\n",
        "np.random.seed(123)\n",
        "\n",
        "data = norm.rvs(size=10000) # Gaussian distribution has average=0 and std(scale) =1\n",
        "np.mean(data), np.std(data)"
      ]
    },
    {
      "cell_type": "code",
      "source": [
        "# Example 12: Generate an alpha distribution\n",
        "from scipy.stats import alpha # Generate a alpha distribution\n",
        "import numpy as np\n",
        "\n",
        "np.random.seed(123)\n",
        "\n",
        "data = alpha.rvs(10, size=10000) # Gaussian distribution has average=0 and std(scale) =1\n",
        "np.mean(data), np.std(data)"
      ],
      "metadata": {
        "colab": {
          "base_uri": "https://localhost:8080/"
        },
        "id": "oOo_IVPSNaIA",
        "outputId": "abe2daf3-a4ad-4f6e-edce-7d6dafcb55e6"
      },
      "execution_count": 10,
      "outputs": [
        {
          "output_type": "execute_result",
          "data": {
            "text/plain": [
              "(0.10091979892122548, 0.010306247141065268)"
            ]
          },
          "metadata": {},
          "execution_count": 10
        }
      ]
    },
    {
      "cell_type": "code",
      "source": [
        "# Example 13: Generate an alpha distribution\n",
        "from scipy.stats import alpha # Generate a alpha distribution\n",
        "import numpy as np\n",
        "\n",
        "np.random.seed(123)\n",
        "\n",
        "data = alpha.rvs(1, size=10000) # Gaussian distribution has average=0 and std(scale) =1\n",
        "np.mean(data), np.std(data)"
      ],
      "metadata": {
        "colab": {
          "base_uri": "https://localhost:8080/"
        },
        "id": "xOTEV-1dOHva",
        "outputId": "5128ee42-17ff-4992-c166-bf9aec9e5124"
      },
      "execution_count": 11,
      "outputs": [
        {
          "output_type": "execute_result",
          "data": {
            "text/plain": [
              "(2.711289409998148, 30.526629720292306)"
            ]
          },
          "metadata": {},
          "execution_count": 11
        }
      ]
    },
    {
      "cell_type": "code",
      "source": [
        "# Example 14: Generate a Gaussian distribution\n",
        "from scipy.stats import norm #Generate a Gaussian distribution\n",
        "import numpy as np\n",
        "np.random.seed(123)\n",
        "\n",
        "data = norm.rvs(size=10000) # Gaussian distribution has average=0 and std(scale) =1\n",
        "norm.pdf(data)\n",
        "norm.cdf(data)"
      ],
      "metadata": {
        "colab": {
          "base_uri": "https://localhost:8080/"
        },
        "id": "_x-zFIn_OiKK",
        "outputId": "09c52ce9-6637-46b1-d352-d2185813e489"
      },
      "execution_count": 13,
      "outputs": [
        {
          "output_type": "execute_result",
          "data": {
            "text/plain": [
              "array([0.13882123, 0.84070157, 0.61140334, ..., 0.31836832, 0.71970466,\n",
              "       0.83412945])"
            ]
          },
          "metadata": {},
          "execution_count": 13
        }
      ]
    },
    {
      "cell_type": "code",
      "source": [
        "norm.pdf(data, loc=0.5) - norm.pdf(data)"
      ],
      "metadata": {
        "colab": {
          "base_uri": "https://localhost:8080/"
        },
        "id": "LXb4GIMwPnHz",
        "outputId": "64d9f1e0-2fb7-4691-87d8-3d426f2e7551"
      },
      "execution_count": 15,
      "outputs": [
        {
          "output_type": "execute_result",
          "data": {
            "text/plain": [
              "array([-0.10781129,  0.10991864,  0.00637247, ..., -0.10816438,\n",
              "        0.0608091 ,  0.10804289])"
            ]
          },
          "metadata": {},
          "execution_count": 15
        }
      ]
    },
    {
      "cell_type": "code",
      "source": [
        "# Example 15: Generate a Multivariate Gaussian distribution\n",
        "from scipy.stats import multivariate_normal # Generate a Multivariate Gaussian distribution\n",
        "import numpy as np\n",
        "np.random.seed(123)\n",
        "\n",
        "data = multivariate_normal.rvs(size=10000, mean=0, cov=0.5) # Multivariate Gaussian distribution has average=0 and std(scale) =0.5\n",
        "data = multivariate_normal.rvs(size=10000, mean=0, cov=0.8) # Multivariate Gaussian distribution has average=0 and std(scale) = 0.8\n",
        "\n",
        "multivariate_normal.pdf(data)\n",
        "data.shape"
      ],
      "metadata": {
        "colab": {
          "base_uri": "https://localhost:8080/"
        },
        "id": "KUNKlD7AQ5pR",
        "outputId": "3e89c397-8dce-4f90-c1bc-b45854ed597c"
      },
      "execution_count": 19,
      "outputs": [
        {
          "output_type": "execute_result",
          "data": {
            "text/plain": [
              "(10000,)"
            ]
          },
          "metadata": {},
          "execution_count": 19
        }
      ]
    },
    {
      "cell_type": "code",
      "source": [
        "# Example 16: Description of a data points\n",
        "from scipy.stats import describe\n",
        "\n",
        "describe(data)"
      ],
      "metadata": {
        "colab": {
          "base_uri": "https://localhost:8080/"
        },
        "id": "yd_2_XcJUqWx",
        "outputId": "d336553d-6bc6-487f-9f0a-a7e54dd30436"
      },
      "execution_count": 20,
      "outputs": [
        {
          "output_type": "execute_result",
          "data": {
            "text/plain": [
              "DescribeResult(nobs=10000, minmax=(-2.6879803008550978, 2.876578915003253), mean=0.006867344897540859, variance=0.49816544990739176, skewness=0.004548742327658409, kurtosis=-0.030211848874612812)"
            ]
          },
          "metadata": {},
          "execution_count": 20
        }
      ]
    },
    {
      "cell_type": "code",
      "source": [
        "# Example 17: randk our data\n",
        "from scipy.stats import rankdata\n",
        "\n",
        "rankdata(data)"
      ],
      "metadata": {
        "colab": {
          "base_uri": "https://localhost:8080/"
        },
        "id": "aJC7RXHZWpcf",
        "outputId": "131435ab-8aa7-4343-beff-c23b26323381"
      },
      "execution_count": 23,
      "outputs": [
        {
          "output_type": "execute_result",
          "data": {
            "text/plain": [
              "array([1389., 8398., 6066., ..., 3173., 7149., 8322.])"
            ]
          },
          "metadata": {},
          "execution_count": 23
        }
      ]
    },
    {
      "cell_type": "code",
      "source": [
        "data"
      ],
      "metadata": {
        "colab": {
          "base_uri": "https://localhost:8080/"
        },
        "id": "Ql7Wa5_NXsIB",
        "outputId": "46b8d05c-6c99-41f8-a88d-74ae43174eb9"
      },
      "execution_count": 24,
      "outputs": [
        {
          "output_type": "execute_result",
          "data": {
            "text/plain": [
              "array([-0.76765676,  0.70522973,  0.20009601, ..., -0.33394278,\n",
              "        0.41151095,  0.68632694])"
            ]
          },
          "metadata": {},
          "execution_count": 24
        }
      ]
    },
    {
      "cell_type": "code",
      "source": [
        "# Example 18: Lienar regression\n",
        "from scipy.stats import linregress\n",
        "\n",
        "x = np.random.normal(size=100)\n",
        "y = np.random.normal(size=100)\n",
        "\n",
        "linregress(x, y)"
      ],
      "metadata": {
        "colab": {
          "base_uri": "https://localhost:8080/"
        },
        "id": "U6HPRifjYW13",
        "outputId": "3eaa597a-f0f3-4b9e-fa6c-0c447d924ee3"
      },
      "execution_count": 25,
      "outputs": [
        {
          "output_type": "execute_result",
          "data": {
            "text/plain": [
              "LinregressResult(slope=-0.12847426950386126, intercept=-0.02962056769875816, rvalue=-0.1387462780020168, pvalue=0.16860888512959615, stderr=0.0926319525972391, intercept_stderr=0.09711091913075767)"
            ]
          },
          "metadata": {},
          "execution_count": 25
        }
      ]
    },
    {
      "cell_type": "code",
      "source": [
        "# Example 19: correlation coefficient\n",
        "from scipy.stats import pearsonr, spearmanr, kendalltau\n",
        "\n",
        "pearsonr(x, y), spearmanr(x, y), kendalltau(x, y)"
      ],
      "metadata": {
        "colab": {
          "base_uri": "https://localhost:8080/"
        },
        "id": "YIle8oiIbG9x",
        "outputId": "52544199-e2d1-4cb7-bc17-2a2b5333c838"
      },
      "execution_count": 26,
      "outputs": [
        {
          "output_type": "execute_result",
          "data": {
            "text/plain": [
              "(PearsonRResult(statistic=-0.13874627800201686, pvalue=0.16860888512959615),\n",
              " SignificanceResult(statistic=-0.1445304530453045, pvalue=0.1513788400237755),\n",
              " SignificanceResult(statistic=-0.09252525252525254, pvalue=0.17257465075160605))"
            ]
          },
          "metadata": {},
          "execution_count": 26
        }
      ]
    },
    {
      "cell_type": "code",
      "source": [
        "# Example 20: fit distibution\n",
        "import scipy\n",
        "\n",
        "dist_names = ['gamma', 'beta', 'rayleigh', 'norm', 'pareto']\n",
        "params_dist = []\n",
        "for dist_name in dist_names:\n",
        "    dist = getattr(scipy.stats, dist_name)\n",
        "    params = dist.fit(y)\n",
        "    params_dist.append(params)"
      ],
      "metadata": {
        "id": "d61OhSS0cGx3"
      },
      "execution_count": 31,
      "outputs": []
    },
    {
      "cell_type": "code",
      "source": [
        "params_dist"
      ],
      "metadata": {
        "colab": {
          "base_uri": "https://localhost:8080/"
        },
        "id": "igd3qYJ_cLj9",
        "outputId": "c38f2b81-fff8-44a3-a6b8-0df4395ebe76"
      },
      "execution_count": 32,
      "outputs": [
        {
          "output_type": "execute_result",
          "data": {
            "text/plain": [
              "[(415.00238974412014, -19.841264964825744, 0.047699018708177277),\n",
              " (10.309437229363208, 6.861132503273665, -5.09359626389991, 8.411507605556764),\n",
              " (-2.7929024341344917, 2.060773702581822),\n",
              " (-0.043205840312690855, 0.965787320495755),\n",
              " (99183622.96252193, -268435458.74965525, 268435456.0)]"
            ]
          },
          "metadata": {},
          "execution_count": 32
        }
      ]
    },
    {
      "cell_type": "markdown",
      "metadata": {
        "id": "re92rypv9PH1"
      },
      "source": [
        "## Matplotlib\n",
        "Matplotlib is a plotting library for the Python programming language and its numerical mathematics extension, NumPy. It provides an object-oriented API for embedding plots into applications.\n",
        "\n",
        "### Features:\n",
        "- 2D plotting\n",
        "- Interactive plots\n",
        "- Customizable visualizations\n",
        "\n",
        "### Examples:"
      ]
    },
    {
      "cell_type": "code",
      "execution_count": 33,
      "metadata": {
        "id": "sgRPOh4y9PH1",
        "colab": {
          "base_uri": "https://localhost:8080/",
          "height": 472
        },
        "outputId": "0938d584-55e1-481d-b99b-caebe1d70534"
      },
      "outputs": [
        {
          "output_type": "display_data",
          "data": {
            "text/plain": [
              "<Figure size 640x480 with 1 Axes>"
            ],
            "image/png": "[encoded data removed]"
          },
          "metadata": {}
        }
      ],
      "source": [
        "import matplotlib.pyplot as plt\n",
        "\n",
        "# Example 1: Basic line plot\n",
        "plt.plot([1, 2, 3, 4], [1, 4, 9, 16])\n",
        "plt.title('Basic Line Plot')\n",
        "plt.xlabel('X-axis')\n",
        "plt.ylabel('Y-axis')\n",
        "plt.show()"
      ]
    },
    {
      "cell_type": "code",
      "execution_count": 34,
      "metadata": {
        "id": "eSgQNQjk9PH1",
        "colab": {
          "base_uri": "https://localhost:8080/",
          "height": 472
        },
        "outputId": "3e5ae2a6-a5c3-43e0-9ad8-b4f670c40249"
      },
      "outputs": [
        {
          "output_type": "display_data",
          "data": {
            "text/plain": [
              "<Figure size 640x480 with 1 Axes>"
            ],
            "image/png": "[encoded data removed]"
          },
          "metadata": {}
        }
      ],
      "source": [
        "# Example 2: Scatter plot\n",
        "plt.scatter([1, 2, 3, 4], [1, 4, 9, 16])\n",
        "plt.title('Scatter Plot')\n",
        "plt.xlabel('X-axis')\n",
        "plt.ylabel('Y-axis')\n",
        "plt.show()"
      ]
    },
    {
      "cell_type": "code",
      "source": [
        "# Example 3: Scatter and line plot\n",
        "plt.scatter([1, 2, 3, 4], [1, 4, 9, 16], c=['r','b','g','r'])\n",
        "plt.plot([1, 2, 3, 4], [1, 4, 9, 16],c='k')\n",
        "plt.title('Scatter-Line Plot')\n",
        "plt.xlabel('X-axis')\n",
        "plt.ylabel('Y-axis')\n",
        "plt.show()"
      ],
      "metadata": {
        "colab": {
          "base_uri": "https://localhost:8080/",
          "height": 472
        },
        "id": "MI6Rn4ASjGJH",
        "outputId": "7b3ac3d1-5dea-4abd-c51b-ac95197663f0"
      },
      "execution_count": 42,
      "outputs": [
        {
          "output_type": "display_data",
          "data": {
            "text/plain": [
              "<Figure size 640x480 with 1 Axes>"
            ],
            "image/png": "[encoded data removed]"
          },
          "metadata": {}
        }
      ]
    },
    {
      "cell_type": "code",
      "source": [
        "# Example 4: cmap\n",
        "from matplotlib import colormaps\n",
        "\n",
        "x = np.random.normal(size=100)\n",
        "y = np.random.normal(size=100)\n",
        "z = np.random.normal(size=100)\n",
        "\n",
        "plt.scatter(x, y, c=z)\n",
        "plt.title('Scatter Plot')\n",
        "plt.xlabel('X-axis')\n",
        "plt.ylabel('Y-axis')\n",
        "plt.show()"
      ],
      "metadata": {
        "colab": {
          "base_uri": "https://localhost:8080/",
          "height": 472
        },
        "id": "3o7M6WC2kXIm",
        "outputId": "3411eeda-d7be-4817-a94d-933e2486d6df"
      },
      "execution_count": 47,
      "outputs": [
        {
          "output_type": "display_data",
          "data": {
            "text/plain": [
              "<Figure size 640x480 with 1 Axes>"
            ],
            "image/png": "[encoded data removed]"
          },
          "metadata": {}
        }
      ]
    },
    {
      "cell_type": "code",
      "source": [
        "# Example 4: legend\n",
        "import matplotlib.pyplot as plt\n",
        "import numpy as np\n",
        "\n",
        "x = np.random.normal(size=100)\n",
        "y = np.random.normal(size=100)\n",
        "z = np.random.normal(size=100)\n",
        "\n",
        "scatter_plot = plt.scatter(x, y, label='Data Points 1')\n",
        "scatter_plot = plt.scatter(x, z, label='Data Points 2')\n",
        "plt.legend()\n",
        "plt.title('Scatter Plot')\n",
        "plt.xlabel('X-axis')\n",
        "plt.ylabel('Y-axis')\n",
        "plt.show()"
      ],
      "metadata": {
        "colab": {
          "base_uri": "https://localhost:8080/",
          "height": 472
        },
        "id": "MpgxJLywldAq",
        "outputId": "f74a6a89-c845-4944-b521-93f31fe39ca0"
      },
      "execution_count": 51,
      "outputs": [
        {
          "output_type": "display_data",
          "data": {
            "text/plain": [
              "<Figure size 640x480 with 1 Axes>"
            ],
            "image/png": "[encoded data removed]"
          },
          "metadata": {}
        }
      ]
    },
    {
      "cell_type": "code",
      "execution_count": 52,
      "metadata": {
        "id": "oUm6_uxZ9PH1",
        "colab": {
          "base_uri": "https://localhost:8080/",
          "height": 472
        },
        "outputId": "66d25259-63c3-4265-943c-074c71553dee"
      },
      "outputs": [
        {
          "output_type": "display_data",
          "data": {
            "text/plain": [
              "<Figure size 640x480 with 1 Axes>"
            ],
            "image/png": "[encoded data removed]"
          },
          "metadata": {}
        }
      ],
      "source": [
        "# Example 3: Bar chart\n",
        "plt.bar(['A', 'B', 'C', 'D'], [3, 7, 5, 6])\n",
        "plt.title('Bar Chart')\n",
        "plt.xlabel('Categories')\n",
        "plt.ylabel('Values')\n",
        "plt.show()"
      ]
    },
    {
      "cell_type": "code",
      "execution_count": 54,
      "metadata": {
        "id": "G5GeQg3x9PH2",
        "colab": {
          "base_uri": "https://localhost:8080/",
          "height": 472
        },
        "outputId": "489eea0f-20ad-478b-f10f-1dd17d71d7ff"
      },
      "outputs": [
        {
          "output_type": "display_data",
          "data": {
            "text/plain": [
              "<Figure size 640x480 with 1 Axes>"
            ],
            "image/png": "[encoded data removed]"
          },
          "metadata": {}
        }
      ],
      "source": [
        "# Example 4: Histogram\n",
        "data = np.random.randn(1000)\n",
        "plt.hist(data, bins=10)\n",
        "plt.title('Histogram')\n",
        "plt.xlabel('Value')\n",
        "plt.ylabel('Frequency')\n",
        "plt.show()"
      ]
    },
    {
      "cell_type": "code",
      "execution_count": 57,
      "metadata": {
        "id": "f5-_uUWY9PH2",
        "colab": {
          "base_uri": "https://localhost:8080/",
          "height": 428
        },
        "outputId": "466d515d-e5bf-4f5e-ae31-647c52770ae1"
      },
      "outputs": [
        {
          "output_type": "display_data",
          "data": {
            "text/plain": [
              "<Figure size 640x480 with 1 Axes>"
            ],
            "image/png": "[encoded data removed]"
          },
          "metadata": {}
        }
      ],
      "source": [
        "# Example 5: Pie chart\n",
        "sizes = [15, 30, 45, 10]\n",
        "plt.pie(sizes, labels=['A', 'B', 'C', 'D'])\n",
        "plt.title('Pie Chart')\n",
        "plt.show()"
      ]
    },
    {
      "cell_type": "code",
      "source": [
        "# Example 6: subplots\n",
        "\n",
        "import numpy as np\n",
        "\n",
        "x = np.random.normal(size=100)\n",
        "y = np.random.normal(size=100)\n",
        "z = np.random.normal(size=100)\n",
        "\n",
        "fig, axs = plt.subplots(nrows=2,ncols=2, figsize=(12,8))\n",
        "axs[0,0].plot(x,y)\n",
        "axs[0,0].set_title('Line plot')\n",
        "axs[0,0].set_xlabel('X-axis')\n",
        "axs[0,0].set_ylabel('Y-axis')\n",
        "\n",
        "axs[0,1].plot(np.sort(x),np.sort(y))\n",
        "axs[0,1].set_title('Line plot sorted')\n",
        "axs[0,1].set_xlabel('X-axis')\n",
        "axs[0,1].set_ylabel('Y-axis')\n",
        "\n",
        "axs[1,0].scatter(x,y)\n",
        "axs[1,0].set_title('Scatter plot')\n",
        "axs[1,0].set_xlabel('X-axis')\n",
        "axs[1,0].set_ylabel('Y-axis')\n",
        "\n",
        "axs[1,1].scatter(np.sort(x),np.sort(y))\n",
        "axs[1,1].set_title('Scatter plot sorted')\n",
        "axs[1,1].set_xlabel('X-axis')\n",
        "axs[1,1].set_ylabel('Y-axis')\n",
        "\n",
        "fig.tight_layout()"
      ],
      "metadata": {
        "colab": {
          "base_uri": "https://localhost:8080/",
          "height": 756
        },
        "id": "kYlb6HSOoMaI",
        "outputId": "8ee7e123-a7c7-42fb-a2da-e862bddd2fae"
      },
      "execution_count": 73,
      "outputs": [
        {
          "output_type": "display_data",
          "data": {
            "text/plain": [
              "<Figure size 1200x800 with 4 Axes>"
            ],
            "image/png": "[encoded data removed]"
          },
          "metadata": {}
        }
      ]
    },
    {
      "cell_type": "code",
      "source": [
        "# Example 6: subplots\n",
        "\n",
        "import numpy as np\n",
        "\n",
        "x = np.random.normal(size=100)\n",
        "y = np.random.normal(size=100)\n",
        "z = np.random.normal(size=100)\n",
        "\n",
        "fig, axs = plt.subplots(nrows=2,ncols=2, figsize=(12,8))\n",
        "\n",
        "ax = axs.flatten()\n",
        "\n",
        "ax[0].plot(x,y)\n",
        "ax[0].set_title('Line plot')\n",
        "ax[0].set_xlabel('X-axis')\n",
        "ax[0].set_ylabel('Y-axis')\n",
        "\n",
        "ax[1].plot(np.sort(x),np.sort(y))\n",
        "ax[1].set_title('Line plot sorted')\n",
        "ax[1].set_xlabel('X-axis')\n",
        "ax[1].set_ylabel('Y-axis')\n",
        "\n",
        "ax[2].scatter(x,y)\n",
        "ax[2].set_title('Scatter plot')\n",
        "ax[2].set_xlabel('X-axis')\n",
        "ax[2].set_ylabel('Y-axis')\n",
        "\n",
        "ax[3].scatter(np.sort(x),np.sort(y))\n",
        "ax[3].set_title('Scatter plot sorted')\n",
        "ax[3].set_xlabel('X-axis')\n",
        "ax[3].set_ylabel('Y-axis')\n",
        "\n",
        "fig.tight_layout()"
      ],
      "metadata": {
        "colab": {
          "base_uri": "https://localhost:8080/",
          "height": 756
        },
        "id": "9plNnRU2sTvY",
        "outputId": "fcbe7fb6-200a-4822-9c8b-3ec0e16f5323"
      },
      "execution_count": 75,
      "outputs": [
        {
          "output_type": "display_data",
          "data": {
            "text/plain": [
              "<Figure size 1200x800 with 4 Axes>"
            ],
            "image/png": "[encoded data removed]"
          },
          "metadata": {}
        }
      ]
    },
    {
      "cell_type": "code",
      "source": [
        "# Example 7: hist2d\n",
        "\n",
        "hist2d_output = plt.hist2d(x,y, bins=10)"
      ],
      "metadata": {
        "colab": {
          "base_uri": "https://localhost:8080/",
          "height": 430
        },
        "id": "0q7SuNR6tSzn",
        "outputId": "0c5d7a76-e1ac-41d3-af09-f995e4bf56a4"
      },
      "execution_count": 79,
      "outputs": [
        {
          "output_type": "display_data",
          "data": {
            "text/plain": [
              "<Figure size 640x480 with 1 Axes>"
            ],
            "image/png": "[encoded data removed]"
          },
          "metadata": {}
        }
      ]
    },
    {
      "cell_type": "code",
      "source": [
        "# Example 8: boxplot\n",
        "fig, ax = plt.subplots()\n",
        "boxplot = ax.boxplot([x,y])"
      ],
      "metadata": {
        "colab": {
          "base_uri": "https://localhost:8080/",
          "height": 430
        },
        "id": "m2uz7iwpuEc6",
        "outputId": "663dfb6a-096e-4fc8-d05c-28360cf8e21b"
      },
      "execution_count": 82,
      "outputs": [
        {
          "output_type": "display_data",
          "data": {
            "text/plain": [
              "<Figure size 640x480 with 1 Axes>"
            ],
            "image/png": "[encoded data removed]"
          },
          "metadata": {}
        }
      ]
    },
    {
      "cell_type": "markdown",
      "metadata": {
        "id": "AeHS-84m9PH2"
      },
      "source": [
        "## Pandas\n",
        "Pandas is a powerful data manipulation and analysis library for Python. It provides data structures like Series and DataFrames to handle and analyze data efficiently.\n",
        "\n",
        "### Features:\n",
        "- Data manipulation with DataFrames\n",
        "- Flexible data handling\n",
        "- Time series support\n",
        "\n",
        "### Examples:"
      ]
    },
    {
      "cell_type": "code",
      "execution_count": 83,
      "metadata": {
        "id": "1hE6COOd9PH3",
        "colab": {
          "base_uri": "https://localhost:8080/",
          "height": 143
        },
        "outputId": "b7483ef3-40fb-4bd9-964c-a669101edfaf"
      },
      "outputs": [
        {
          "output_type": "execute_result",
          "data": {
            "text/plain": [
              "   Column1  Column2\n",
              "0        1        4\n",
              "1        2        5\n",
              "2        3        6"
            ],
            "text/html": [
              "\n",
              "  <div id=\"df-09cd7c7f-577c-4e3d-a942-bdc7829816ae\" class=\"colab-df-container\">\n",
              "    <div>\n",
              "<style scoped>\n",
              "    .dataframe tbody tr th:only-of-type {\n",
              "        vertical-align: middle;\n",
              "    }\n",
              "\n",
              "    .dataframe tbody tr th {\n",
              "        vertical-align: top;\n",
              "    }\n",
              "\n",
              "    .dataframe thead th {\n",
              "        text-align: right;\n",
              "    }\n",
              "</style>\n",
              "<table border=\"1\" class=\"dataframe\">\n",
              "  <thead>\n",
              "    <tr style=\"text-align: right;\">\n",
              "      <th></th>\n",
              "      <th>Column1</th>\n",
              "      <th>Column2</th>\n",
              "    </tr>\n",
              "  </thead>\n",
              "  <tbody>\n",
              "    <tr>\n",
              "      <th>0</th>\n",
              "      <td>1</td>\n",
              "      <td>4</td>\n",
              "    </tr>\n",
              "    <tr>\n",
              "      <th>1</th>\n",
              "      <td>2</td>\n",
              "      <td>5</td>\n",
              "    </tr>\n",
              "    <tr>\n",
              "      <th>2</th>\n",
              "      <td>3</td>\n",
              "      <td>6</td>\n",
              "    </tr>\n",
              "  </tbody>\n",
              "</table>\n",
              "</div>\n",
              "    <div class=\"colab-df-buttons\">\n",
              "\n",
              "  <div class=\"colab-df-container\">\n",
              "    <button class=\"colab-df-convert\" onclick=\"convertToInteractive('df-09cd7c7f-577c-4e3d-a942-bdc7829816ae')\"\n",
              "            title=\"Convert this dataframe to an interactive table.\"\n",
              "            style=\"display:none;\">\n",
              "\n",
              "  <svg xmlns=\"http://www.w3.org/2000/svg\" height=\"24px\" viewBox=\"0 -960 960 960\">\n",
              "    <path d=\"M120-120v-720h720v720H120Zm60-500h600v-160H180v160Zm220 220h160v-160H400v160Zm0 220h160v-160H400v160ZM180-400h160v-160H180v160Zm440 0h160v-160H620v160ZM180-180h160v-160H180v160Zm440 0h160v-160H620v160Z\"/>\n",
              "  </svg>\n",
              "    </button>\n",
              "\n",
              "  <style>\n",
              "    .colab-df-container {\n",
              "      display:flex;\n",
              "      gap: 12px;\n",
              "    }\n",
              "\n",
              "    .colab-df-convert {\n",
              "      background-color: #E8F0FE;\n",
              "      border: none;\n",
              "      border-radius: 50%;\n",
              "      cursor: pointer;\n",
              "      display: none;\n",
              "      fill: #1967D2;\n",
              "      height: 32px;\n",
              "      padding: 0 0 0 0;\n",
              "      width: 32px;\n",
              "    }\n",
              "\n",
              "    .colab-df-convert:hover {\n",
              "      background-color: #E2EBFA;\n",
              "      box-shadow: 0px 1px 2px rgba(60, 64, 67, 0.3), 0px 1px 3px 1px rgba(60, 64, 67, 0.15);\n",
              "      fill: #174EA6;\n",
              "    }\n",
              "\n",
              "    .colab-df-buttons div {\n",
              "      margin-bottom: 4px;\n",
              "    }\n",
              "\n",
              "    [theme=dark] .colab-df-convert {\n",
              "      background-color: #3B4455;\n",
              "      fill: #D2E3FC;\n",
              "    }\n",
              "\n",
              "    [theme=dark] .colab-df-convert:hover {\n",
              "      background-color: #434B5C;\n",
              "      box-shadow: 0px 1px 3px 1px rgba(0, 0, 0, 0.15);\n",
              "      filter: drop-shadow(0px 1px 2px rgba(0, 0, 0, 0.3));\n",
              "      fill: #FFFFFF;\n",
              "    }\n",
              "  </style>\n",
              "\n",
              "    <script>\n",
              "      const buttonEl =\n",
              "        document.querySelector('#df-09cd7c7f-577c-4e3d-a942-bdc7829816ae button.colab-df-convert');\n",
              "      buttonEl.style.display =\n",
              "        google.colab.kernel.accessAllowed ? 'block' : 'none';\n",
              "\n",
              "      async function convertToInteractive(key) {\n",
              "        const element = document.querySelector('#df-09cd7c7f-577c-4e3d-a942-bdc7829816ae');\n",
              "        const dataTable =\n",
              "          await google.colab.kernel.invokeFunction('convertToInteractive',\n",
              "                                                    [key], {});\n",
              "        if (!dataTable) return;\n",
              "\n",
              "        const docLinkHtml = 'Like what you see? Visit the ' +\n",
              "          '<a target=\"_blank\" href=https://colab.research.google.com/notebooks/data_table.ipynb>data table notebook</a>'\n",
              "          + ' to learn more about interactive tables.';\n",
              "        element.innerHTML = '';\n",
              "        dataTable['output_type'] = 'display_data';\n",
              "        await google.colab.output.renderOutput(dataTable, element);\n",
              "        const docLink = document.createElement('div');\n",
              "        docLink.innerHTML = docLinkHtml;\n",
              "        element.appendChild(docLink);\n",
              "      }\n",
              "    </script>\n",
              "  </div>\n",
              "\n",
              "\n",
              "<div id=\"df-126418f1-a93c-468b-8030-cc3141aa6242\">\n",
              "  <button class=\"colab-df-quickchart\" onclick=\"quickchart('df-126418f1-a93c-468b-8030-cc3141aa6242')\"\n",
              "            title=\"Suggest charts\"\n",
              "            style=\"display:none;\">\n",
              "\n",
              "<svg xmlns=\"http://www.w3.org/2000/svg\" height=\"24px\"viewBox=\"0 0 24 24\"\n",
              "     width=\"24px\">\n",
              "    <g>\n",
              "        <path d=\"M19 3H5c-1.1 0-2 .9-2 2v14c0 1.1.9 2 2 2h14c1.1 0 2-.9 2-2V5c0-1.1-.9-2-2-2zM9 17H7v-7h2v7zm4 0h-2V7h2v10zm4 0h-2v-4h2v4z\"/>\n",
              "    </g>\n",
              "</svg>\n",
              "  </button>\n",
              "\n",
              "<style>\n",
              "  .colab-df-quickchart {\n",
              "      --bg-color: #E8F0FE;\n",
              "      --fill-color: #1967D2;\n",
              "      --hover-bg-color: #E2EBFA;\n",
              "      --hover-fill-color: #174EA6;\n",
              "      --disabled-fill-color: #AAA;\n",
              "      --disabled-bg-color: #DDD;\n",
              "  }\n",
              "\n",
              "  [theme=dark] .colab-df-quickchart {\n",
              "      --bg-color: #3B4455;\n",
              "      --fill-color: #D2E3FC;\n",
              "      --hover-bg-color: #434B5C;\n",
              "      --hover-fill-color: #FFFFFF;\n",
              "      --disabled-bg-color: #3B4455;\n",
              "      --disabled-fill-color: #666;\n",
              "  }\n",
              "\n",
              "  .colab-df-quickchart {\n",
              "    background-color: var(--bg-color);\n",
              "    border: none;\n",
              "    border-radius: 50%;\n",
              "    cursor: pointer;\n",
              "    display: none;\n",
              "    fill: var(--fill-color);\n",
              "    height: 32px;\n",
              "    padding: 0;\n",
              "    width: 32px;\n",
              "  }\n",
              "\n",
              "  .colab-df-quickchart:hover {\n",
              "    background-color: var(--hover-bg-color);\n",
              "    box-shadow: 0 1px 2px rgba(60, 64, 67, 0.3), 0 1px 3px 1px rgba(60, 64, 67, 0.15);\n",
              "    fill: var(--button-hover-fill-color);\n",
              "  }\n",
              "\n",
              "  .colab-df-quickchart-complete:disabled,\n",
              "  .colab-df-quickchart-complete:disabled:hover {\n",
              "    background-color: var(--disabled-bg-color);\n",
              "    fill: var(--disabled-fill-color);\n",
              "    box-shadow: none;\n",
              "  }\n",
              "\n",
              "  .colab-df-spinner {\n",
              "    border: 2px solid var(--fill-color);\n",
              "    border-color: transparent;\n",
              "    border-bottom-color: var(--fill-color);\n",
              "    animation:\n",
              "      spin 1s steps(1) infinite;\n",
              "  }\n",
              "\n",
              "  @keyframes spin {\n",
              "    0% {\n",
              "      border-color: transparent;\n",
              "      border-bottom-color: var(--fill-color);\n",
              "      border-left-color: var(--fill-color);\n",
              "    }\n",
              "    20% {\n",
              "      border-color: transparent;\n",
              "      border-left-color: var(--fill-color);\n",
              "      border-top-color: var(--fill-color);\n",
              "    }\n",
              "    30% {\n",
              "      border-color: transparent;\n",
              "      border-left-color: var(--fill-color);\n",
              "      border-top-color: var(--fill-color);\n",
              "      border-right-color: var(--fill-color);\n",
              "    }\n",
              "    40% {\n",
              "      border-color: transparent;\n",
              "      border-right-color: var(--fill-color);\n",
              "      border-top-color: var(--fill-color);\n",
              "    }\n",
              "    60% {\n",
              "      border-color: transparent;\n",
              "      border-right-color: var(--fill-color);\n",
              "    }\n",
              "    80% {\n",
              "      border-color: transparent;\n",
              "      border-right-color: var(--fill-color);\n",
              "      border-bottom-color: var(--fill-color);\n",
              "    }\n",
              "    90% {\n",
              "      border-color: transparent;\n",
              "      border-bottom-color: var(--fill-color);\n",
              "    }\n",
              "  }\n",
              "</style>\n",
              "\n",
              "  <script>\n",
              "    async function quickchart(key) {\n",
              "      const quickchartButtonEl =\n",
              "        document.querySelector('#' + key + ' button');\n",
              "      quickchartButtonEl.disabled = true;  // To prevent multiple clicks.\n",
              "      quickchartButtonEl.classList.add('colab-df-spinner');\n",
              "      try {\n",
              "        const charts = await google.colab.kernel.invokeFunction(\n",
              "            'suggestCharts', [key], {});\n",
              "      } catch (error) {\n",
              "        console.error('Error during call to suggestCharts:', error);\n",
              "      }\n",
              "      quickchartButtonEl.classList.remove('colab-df-spinner');\n",
              "      quickchartButtonEl.classList.add('colab-df-quickchart-complete');\n",
              "    }\n",
              "    (() => {\n",
              "      let quickchartButtonEl =\n",
              "        document.querySelector('#df-126418f1-a93c-468b-8030-cc3141aa6242 button');\n",
              "      quickchartButtonEl.style.display =\n",
              "        google.colab.kernel.accessAllowed ? 'block' : 'none';\n",
              "    })();\n",
              "  </script>\n",
              "</div>\n",
              "\n",
              "  <div id=\"id_5f09a4f0-849d-4d21-8714-b3f1bdbb2a47\">\n",
              "    <style>\n",
              "      .colab-df-generate {\n",
              "        background-color: #E8F0FE;\n",
              "        border: none;\n",
              "        border-radius: 50%;\n",
              "        cursor: pointer;\n",
              "        display: none;\n",
              "        fill: #1967D2;\n",
              "        height: 32px;\n",
              "        padding: 0 0 0 0;\n",
              "        width: 32px;\n",
              "      }\n",
              "\n",
              "      .colab-df-generate:hover {\n",
              "        background-color: #E2EBFA;\n",
              "        box-shadow: 0px 1px 2px rgba(60, 64, 67, 0.3), 0px 1px 3px 1px rgba(60, 64, 67, 0.15);\n",
              "        fill: #174EA6;\n",
              "      }\n",
              "\n",
              "      [theme=dark] .colab-df-generate {\n",
              "        background-color: #3B4455;\n",
              "        fill: #D2E3FC;\n",
              "      }\n",
              "\n",
              "      [theme=dark] .colab-df-generate:hover {\n",
              "        background-color: #434B5C;\n",
              "        box-shadow: 0px 1px 3px 1px rgba(0, 0, 0, 0.15);\n",
              "        filter: drop-shadow(0px 1px 2px rgba(0, 0, 0, 0.3));\n",
              "        fill: #FFFFFF;\n",
              "      }\n",
              "    </style>\n",
              "    <button class=\"colab-df-generate\" onclick=\"generateWithVariable('df')\"\n",
              "            title=\"Generate code using this dataframe.\"\n",
              "            style=\"display:none;\">\n",
              "\n",
              "  <svg xmlns=\"http://www.w3.org/2000/svg\" height=\"24px\"viewBox=\"0 0 24 24\"\n",
              "       width=\"24px\">\n",
              "    <path d=\"M7,19H8.4L18.45,9,17,7.55,7,17.6ZM5,21V16.75L18.45,3.32a2,2,0,0,1,2.83,0l1.4,1.43a1.91,1.91,0,0,1,.58,1.4,1.91,1.91,0,0,1-.58,1.4L9.25,21ZM18.45,9,17,7.55Zm-12,3A5.31,5.31,0,0,0,4.9,8.1,5.31,5.31,0,0,0,1,6.5,5.31,5.31,0,0,0,4.9,4.9,5.31,5.31,0,0,0,6.5,1,5.31,5.31,0,0,0,8.1,4.9,5.31,5.31,0,0,0,12,6.5,5.46,5.46,0,0,0,6.5,12Z\"/>\n",
              "  </svg>\n",
              "    </button>\n",
              "    <script>\n",
              "      (() => {\n",
              "      const buttonEl =\n",
              "        document.querySelector('#id_5f09a4f0-849d-4d21-8714-b3f1bdbb2a47 button.colab-df-generate');\n",
              "      buttonEl.style.display =\n",
              "        google.colab.kernel.accessAllowed ? 'block' : 'none';\n",
              "\n",
              "      buttonEl.onclick = () => {\n",
              "        google.colab.notebook.generateWithVariable('df');\n",
              "      }\n",
              "      })();\n",
              "    </script>\n",
              "  </div>\n",
              "\n",
              "    </div>\n",
              "  </div>\n"
            ],
            "application/vnd.google.colaboratory.intrinsic+json": {
              "type": "dataframe",
              "variable_name": "df",
              "summary": "{\n  \"name\": \"df\",\n  \"rows\": 3,\n  \"fields\": [\n    {\n      \"column\": \"Column1\",\n      \"properties\": {\n        \"dtype\": \"number\",\n        \"std\": 1,\n        \"min\": 1,\n        \"max\": 3,\n        \"num_unique_values\": 3,\n        \"samples\": [\n          1,\n          2,\n          3\n        ],\n        \"semantic_type\": \"\",\n        \"description\": \"\"\n      }\n    },\n    {\n      \"column\": \"Column2\",\n      \"properties\": {\n        \"dtype\": \"number\",\n        \"std\": 1,\n        \"min\": 4,\n        \"max\": 6,\n        \"num_unique_values\": 3,\n        \"samples\": [\n          4,\n          5,\n          6\n        ],\n        \"semantic_type\": \"\",\n        \"description\": \"\"\n      }\n    }\n  ]\n}"
            }
          },
          "metadata": {},
          "execution_count": 83
        }
      ],
      "source": [
        "import pandas as pd\n",
        "\n",
        "# Example 1: Create a DataFrame\n",
        "data = {'Column1': [1, 2, 3], 'Column2': [4, 5, 6]}\n",
        "df = pd.DataFrame(data)\n",
        "df"
      ]
    },
    {
      "cell_type": "code",
      "source": [
        "# download a csv file\n",
        "!wget https://raw.githubusercontent.com/mwaskom/seaborn-data/master/iris.csv"
      ],
      "metadata": {
        "id": "RycvXttAwepn"
      },
      "execution_count": null,
      "outputs": []
    },
    {
      "cell_type": "code",
      "execution_count": null,
      "metadata": {
        "id": "qUW7lG9b9PH3"
      },
      "outputs": [],
      "source": [
        "# Example 2: Read CSV file\n",
        "# df_from_csv = pd.read_csv('file.csv')  # Uncomment to read a CSV file\n",
        "# df_from_csv"
      ]
    },
    {
      "cell_type": "code",
      "execution_count": null,
      "metadata": {
        "id": "akkcRzSy9PH3"
      },
      "outputs": [],
      "source": [
        "# Example 3: DataFrame operations\n",
        "df['Column3'] = df['Column1'] + df['Column2']\n",
        "df"
      ]
    },
    {
      "cell_type": "code",
      "execution_count": null,
      "metadata": {
        "id": "taJaW3Kp9PH3"
      },
      "outputs": [],
      "source": [
        "# Example 4: Group by operation\n",
        "grouped = df.groupby('Column1').sum()\n",
        "grouped"
      ]
    },
    {
      "cell_type": "code",
      "execution_count": null,
      "metadata": {
        "id": "tY7nQa6K9PH4"
      },
      "outputs": [],
      "source": [
        "# Example 5: Handling missing values\n",
        "df_with_nan = df.copy()\n",
        "df_with_nan.loc[1, 'Column2'] = None\n",
        "df_filled = df_with_nan.fillna(0)\n",
        "df_filled"
      ]
    }
  ],
  "metadata": {
    "kernelspec": {
      "display_name": "Python 3",
      "language": "python",
      "name": "python3"
    },
    "language_info": {
      "codemirror_mode": {
        "name": "ipython",
        "version": 3
      },
      "file_extension": ".py",
      "mimetype": "text/x-python",
      "name": "python",
      "nbconvert_exporter": "python",
      "pygments_lexer": "ipython3",
      "version": "3.8.5"
    },
    "colab": {
      "provenance": [],
      "toc_visible": true,
      "include_colab_link": true
    }
  },
  "nbformat": 4,
  "nbformat_minor": 0
}